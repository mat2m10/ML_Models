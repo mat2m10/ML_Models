{
 "cells": [
  {
   "cell_type": "markdown",
   "metadata": {},
   "source": [
    "# Kernel Ridge Regression\n",
    "\n",
    "## Theory\n",
    "### 1. Linear regression\n",
    "The goal of linear regression is, given X input feature vectors and their Y labels:\n",
    "\n",
    "$$ X \\in \\mathbb{R}^{N \\times d}, W \\in \\mathbb{R}^{d \\times 1}, Y \\in \\mathbb{R}^{N \\times 1} $$\n",
    "\n",
    "To minimize the average mean squared error between labels y and predictions W^Tx_i\n",
    "$$\\textrm{MSE}(X,Y,W) = \\frac{1}{N} \\sum_{i}\\left(y_i - W^Tx_i\\right)^2$$\n",
    "That is \n",
    "$$\\textrm{OBJ}(X,Y) = min_w \\textrm{MSE}(X,Y,W)$$\n"
   ]
  },
  {
   "cell_type": "markdown",
   "metadata": {},
   "source": [
    "This problem is convex, so this optimization problem is well-posed, and admits one unique solution, where the derivative of the objective w.r.t. the parameter W is null.\n",
    "\n",
    "$$ \\frac{\\partial \\textrm{OBJ(X,Y,W)}}{\\partial W} = 0$$\n",
    "$$ \\Leftrightarrow \\frac{1}{N} \\sum_{i} 2(y_i-W^Tx_i)x_i = 0$$ \n",
    "$$ \\Leftrightarrow \\sum_{i} y_ix_i=  \\sum_{j}(W^Tx_j)x_j $$ \n",
    "$$ \\Leftrightarrow \\sum_{i} y_ix_i=  \\sum_{j}x_j(x_j^TW) $$ \n",
    "$$ \\Leftrightarrow \\sum_{i} y_ix_i=  \\sum_{j}\\left(x_jx_j^T\\right)W $$ \n",
    "$$ \\Leftrightarrow W =  \\sum_{i} y_i x_i \\left(\\sum_{j}x_jx_j^T\\right)^{-1} $$ \n"
   ]
  },
  {
   "cell_type": "markdown",
   "metadata": {},
   "source": [
    "### Features & Labels generation"
   ]
  },
  {
   "cell_type": "code",
   "execution_count": 26,
   "metadata": {},
   "outputs": [],
   "source": [
    "import numpy as np\n",
    "N = 10\n",
    "d = 100\n",
    "X = np.random.rand(d,N)\n",
    "Y = np.random.choice([-1,1], size=N)\n",
    "W = np.random.rand(d)"
   ]
  },
  {
   "cell_type": "markdown",
   "metadata": {},
   "source": [
    "### Definition of the objective"
   ]
  },
  {
   "cell_type": "code",
   "execution_count": 27,
   "metadata": {},
   "outputs": [
    {
     "name": "stdout",
     "output_type": "stream",
     "text": [
      "684.7317325141285\n"
     ]
    }
   ],
   "source": [
    "MSE = 1/N * ((Y - W.dot(X))**2).sum()\n",
    "print(MSE)"
   ]
  },
  {
   "cell_type": "markdown",
   "metadata": {},
   "source": [
    "### Optimization of the objective"
   ]
  },
  {
   "cell_type": "code",
   "execution_count": null,
   "metadata": {},
   "outputs": [],
   "source": []
  },
  {
   "cell_type": "markdown",
   "metadata": {},
   "source": [
    "### 2. Kernel ridge regression\n",
    "The goal of linear ridge regression is "
   ]
  },
  {
   "cell_type": "code",
   "execution_count": null,
   "metadata": {},
   "outputs": [],
   "source": []
  }
 ],
 "metadata": {
  "kernelspec": {
   "display_name": "Python conda36",
   "language": "python",
   "name": "36"
  },
  "language_info": {
   "codemirror_mode": {
    "name": "ipython",
    "version": 3
   },
   "file_extension": ".py",
   "mimetype": "text/x-python",
   "name": "python",
   "nbconvert_exporter": "python",
   "pygments_lexer": "ipython3",
   "version": "3.6.0"
  }
 },
 "nbformat": 4,
 "nbformat_minor": 2
}

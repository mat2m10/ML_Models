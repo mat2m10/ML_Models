{
 "cells": [
  {
   "cell_type": "markdown",
   "id": "c3abcd65-d16c-4804-ae58-576c67543535",
   "metadata": {},
   "source": [
    "# Import libraries"
   ]
  },
  {
   "cell_type": "code",
   "execution_count": 1,
   "id": "f4aa9200-9956-4f78-89ec-4721207ff9d8",
   "metadata": {},
   "outputs": [],
   "source": [
    "import os\n",
    "import sys\n",
    "\n",
    "os.environ['TF_CPP_MIN_LOG_LEVEL'] = '3'\n",
    "\n",
    "import numpy as np\n",
    "import pandas as pd  # Import Pandas and Numpy to create databases\n",
    "import tensorflow as tf  # Import tensorflow to do tensor manipulations\n",
    "\n",
    "from abyss.glob import glob\n",
    "import statsmodels.api as sm\n",
    "from sklearn.preprocessing import StandardScaler\n",
    "scaler = StandardScaler()\n",
    "import matplotlib.pyplot as plt\n",
    "import seaborn as sns"
   ]
  },
  {
   "cell_type": "code",
   "execution_count": 3,
   "id": "6584eb55-f680-4590-a7c6-b968339b05f9",
   "metadata": {},
   "outputs": [],
   "source": [
    "phenotypes_labels = {\n",
    "    \"bc\": \"Breast Cancer\",\n",
    "    \"cad\": \"Coronary Artery Disease\",\n",
    "    \"ms\": \"Multiple Sclerosis\",\n",
    "    \"t2d\": \"Type 2 Diabetes\",\n",
    "    \"pc\": \"Prostate Cancer\",\n",
    "    \"ibd\": \"Inflammatory Bowel Disease\"\n",
    "}\n",
    "\n",
    "scenario_labels = {\n",
    "    \"no_cov\": \"no covariates\",\n",
    "    \"abyss\": \"Abyss correction\",\n",
    "    \"cov\": \"PCA correction\",\n",
    "    \"abyss_cov\": \"Abyss + PCA as covariates\"\n",
    "}\n",
    "def rename_duplicates(df):\n",
    "    cols = pd.Series(df.columns)\n",
    "    for dup in cols[cols.duplicated()].unique():\n",
    "        print(dup)\n",
    "        cols[cols[cols == dup].index.values.tolist()] = [dup + '_' + str(i) if i != 0 else dup for i in range(sum(cols == dup))]\n",
    "    df.columns = cols\n",
    "    return df"
   ]
  },
  {
   "cell_type": "code",
   "execution_count": 18,
   "id": "ebb0d8d4-8b5a-460a-a884-b95ca88fd808",
   "metadata": {},
   "outputs": [],
   "source": [
    "pheno_name = \"bc\""
   ]
  },
  {
   "cell_type": "code",
   "execution_count": 19,
   "id": "5bf4faa0-2c29-46e8-9f48-d1f4f46ef5c3",
   "metadata": {},
   "outputs": [],
   "source": [
    "path_pheno = f\"../data_ignored/UKBiobank/phenotype\"\n",
    "path_geno = f\"../data_ignored/UKBiobank/genotype\""
   ]
  },
  {
   "cell_type": "code",
   "execution_count": 20,
   "id": "a407f0ec-a5aa-48bc-bf86-e7b114b86ee3",
   "metadata": {},
   "outputs": [],
   "source": [
    "pheno = pd.read_pickle(f\"{path_pheno}/{pheno_name}.pkl\")"
   ]
  },
  {
   "cell_type": "code",
   "execution_count": 21,
   "id": "0c7fa8fd-1f5e-4e1f-9a8e-a16494e6b5c3",
   "metadata": {},
   "outputs": [
    {
     "data": {
      "text/html": [
       "<div>\n",
       "<style scoped>\n",
       "    .dataframe tbody tr th:only-of-type {\n",
       "        vertical-align: middle;\n",
       "    }\n",
       "\n",
       "    .dataframe tbody tr th {\n",
       "        vertical-align: top;\n",
       "    }\n",
       "\n",
       "    .dataframe thead th {\n",
       "        text-align: right;\n",
       "    }\n",
       "</style>\n",
       "<table border=\"1\" class=\"dataframe\">\n",
       "  <thead>\n",
       "    <tr style=\"text-align: right;\">\n",
       "      <th></th>\n",
       "      <th>FID</th>\n",
       "      <th>IID</th>\n",
       "      <th>phenotype</th>\n",
       "    </tr>\n",
       "  </thead>\n",
       "  <tbody>\n",
       "    <tr>\n",
       "      <th>0</th>\n",
       "      <td>5568535</td>\n",
       "      <td>5568535</td>\n",
       "      <td>1</td>\n",
       "    </tr>\n",
       "    <tr>\n",
       "      <th>1</th>\n",
       "      <td>3655942</td>\n",
       "      <td>3655942</td>\n",
       "      <td>1</td>\n",
       "    </tr>\n",
       "    <tr>\n",
       "      <th>2</th>\n",
       "      <td>5439742</td>\n",
       "      <td>5439742</td>\n",
       "      <td>0</td>\n",
       "    </tr>\n",
       "    <tr>\n",
       "      <th>3</th>\n",
       "      <td>2880492</td>\n",
       "      <td>2880492</td>\n",
       "      <td>0</td>\n",
       "    </tr>\n",
       "    <tr>\n",
       "      <th>4</th>\n",
       "      <td>2164377</td>\n",
       "      <td>2164377</td>\n",
       "      <td>1</td>\n",
       "    </tr>\n",
       "    <tr>\n",
       "      <th>...</th>\n",
       "      <td>...</td>\n",
       "      <td>...</td>\n",
       "      <td>...</td>\n",
       "    </tr>\n",
       "    <tr>\n",
       "      <th>12913</th>\n",
       "      <td>1069957</td>\n",
       "      <td>1069957</td>\n",
       "      <td>1</td>\n",
       "    </tr>\n",
       "    <tr>\n",
       "      <th>12914</th>\n",
       "      <td>4188122</td>\n",
       "      <td>4188122</td>\n",
       "      <td>0</td>\n",
       "    </tr>\n",
       "    <tr>\n",
       "      <th>12915</th>\n",
       "      <td>5894824</td>\n",
       "      <td>5894824</td>\n",
       "      <td>0</td>\n",
       "    </tr>\n",
       "    <tr>\n",
       "      <th>12916</th>\n",
       "      <td>3829752</td>\n",
       "      <td>3829752</td>\n",
       "      <td>0</td>\n",
       "    </tr>\n",
       "    <tr>\n",
       "      <th>12917</th>\n",
       "      <td>5500813</td>\n",
       "      <td>5500813</td>\n",
       "      <td>1</td>\n",
       "    </tr>\n",
       "  </tbody>\n",
       "</table>\n",
       "<p>12918 rows × 3 columns</p>\n",
       "</div>"
      ],
      "text/plain": [
       "           FID      IID  phenotype\n",
       "0      5568535  5568535          1\n",
       "1      3655942  3655942          1\n",
       "2      5439742  5439742          0\n",
       "3      2880492  2880492          0\n",
       "4      2164377  2164377          1\n",
       "...        ...      ...        ...\n",
       "12913  1069957  1069957          1\n",
       "12914  4188122  4188122          0\n",
       "12915  5894824  5894824          0\n",
       "12916  3829752  3829752          0\n",
       "12917  5500813  5500813          1\n",
       "\n",
       "[12918 rows x 3 columns]"
      ]
     },
     "execution_count": 21,
     "metadata": {},
     "output_type": "execute_result"
    }
   ],
   "source": [
    "pheno"
   ]
  },
  {
   "cell_type": "code",
   "execution_count": null,
   "id": "c27af13f-8979-47e7-ab1f-f674a649a442",
   "metadata": {},
   "outputs": [],
   "source": []
  }
 ],
 "metadata": {
  "kernelspec": {
   "display_name": "Python 3 (ipykernel)",
   "language": "python",
   "name": "python3"
  },
  "language_info": {
   "codemirror_mode": {
    "name": "ipython",
    "version": 3
   },
   "file_extension": ".py",
   "mimetype": "text/x-python",
   "name": "python",
   "nbconvert_exporter": "python",
   "pygments_lexer": "ipython3",
   "version": "3.11.5"
  }
 },
 "nbformat": 4,
 "nbformat_minor": 5
}

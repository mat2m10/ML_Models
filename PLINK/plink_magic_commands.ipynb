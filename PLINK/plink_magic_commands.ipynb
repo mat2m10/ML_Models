{
 "cells": [
  {
   "cell_type": "markdown",
   "id": "certain-volunteer",
   "metadata": {},
   "source": [
    "# Using PLINK to run a GWAS Analyse"
   ]
  },
  {
   "cell_type": "markdown",
   "id": "consistent-black",
   "metadata": {},
   "source": [
    "### Toy data received"
   ]
  },
  {
   "cell_type": "markdown",
   "id": "voluntary-integer",
   "metadata": {},
   "source": [
    "toy data from UKBiobank with 10_000 individuals: unrel_10k_EUR, \n",
    "Alzeihmer dissease phenotypes created following the method from Jansen et al. paper: ukb_alz.pheno\n",
    "Multiple covariate (sex, localisation): ukb_alz.cov"
   ]
  },
  {
   "cell_type": "markdown",
   "id": "international-incident",
   "metadata": {},
   "source": [
    "### PLINKing"
   ]
  },
  {
   "cell_type": "markdown",
   "id": "theoretical-building",
   "metadata": {},
   "source": [
    "Following command is used to extract only one chromosome from the data\n",
    "\n",
    "--bfile: tels plink it is a bed file\n",
    "\n",
    "--chr: lets you choose the chromosome\n",
    "\n",
    "--make-bed: recreates bed, bim, fam files "
   ]
  },
  {
   "cell_type": "code",
   "execution_count": 14,
   "id": "floating-indiana",
   "metadata": {},
   "outputs": [
    {
     "name": "stderr",
     "output_type": "stream",
     "text": [
      "UsageError: Cell magic `%%` not found.\n"
     ]
    }
   ],
   "source": [
    "%%\n",
    "plink --bfile unrel_10k_EUR --chr 2 --make-bed --out 2"
   ]
  },
  {
   "cell_type": "markdown",
   "id": "indie-aurora",
   "metadata": {},
   "source": [
    "Extracting only some selected snp's to do some testing"
   ]
  },
  {
   "cell_type": "code",
   "execution_count": 1,
   "id": "charming-dependence",
   "metadata": {},
   "outputs": [
    {
     "name": "stderr",
     "output_type": "stream",
     "text": [
      "UsageError: Cell magic `%%` not found.\n"
     ]
    }
   ],
   "source": [
    "%%\n",
    "plink --bfile unrel_10k_EUR --snps 10:68564:A_G-10:73537:A_G, 10:82187:C_G, 10:85499:A_G --make-bed --out TESTING"
   ]
  },
  {
   "cell_type": "markdown",
   "id": "conventional-playing",
   "metadata": {},
   "source": [
    "Changing the access rights to a folder"
   ]
  },
  {
   "cell_type": "code",
   "execution_count": 15,
   "id": "cultural-cosmetic",
   "metadata": {},
   "outputs": [
    {
     "name": "stderr",
     "output_type": "stream",
     "text": [
      "UsageError: Cell magic `%%` not found.\n"
     ]
    }
   ],
   "source": [
    "%%\n",
    "chmod +rwx alz_cc.plink"
   ]
  },
  {
   "cell_type": "markdown",
   "id": "tropical-championship",
   "metadata": {},
   "source": [
    "Observing the head of an interessting *zipped* data"
   ]
  },
  {
   "cell_type": "code",
   "execution_count": 16,
   "id": "canadian-investigation",
   "metadata": {},
   "outputs": [
    {
     "name": "stderr",
     "output_type": "stream",
     "text": [
      "UsageError: Cell magic `%%` not found.\n"
     ]
    }
   ],
   "source": [
    "%%\n",
    "zcat ukb_alz.pheno.gz | head"
   ]
  },
  {
   "cell_type": "markdown",
   "id": "dimensional-engineer",
   "metadata": {},
   "source": [
    "Changing folders from one place to another"
   ]
  },
  {
   "cell_type": "code",
   "execution_count": 17,
   "id": "unauthorized-flooring",
   "metadata": {},
   "outputs": [
    {
     "name": "stderr",
     "output_type": "stream",
     "text": [
      "UsageError: Cell magic `%%` not found.\n"
     ]
    }
   ],
   "source": [
    "%%\n",
    "scp -r alz_matthieu/ukb_alz.pheno.gz unrel_10K_EUR/"
   ]
  },
  {
   "cell_type": "markdown",
   "id": "detected-implementation",
   "metadata": {},
   "source": [
    "Running plink on the phenotypes (in this case only for chromosome 1)\n",
    "\n",
    "--pheno: asks for a phenotype file\n",
    "\n",
    "--pheno-name: lets you specify the name of the phenotype you want to analyse\n",
    "\n",
    "--assoc: Simple association (important: does not run covariate, and no error statement!)\n"
   ]
  },
  {
   "cell_type": "code",
   "execution_count": null,
   "id": "impaired-forge",
   "metadata": {},
   "outputs": [],
   "source": [
    "%%\n",
    "plink --bfile 1 --pheno ukb_alz.pheno --pheno-name alz_wt --assoc --allow-no-sex --out test_1"
   ]
  },
  {
   "cell_type": "markdown",
   "id": "strange-warehouse",
   "metadata": {},
   "source": [
    "Sexy looping instead of manually doing it for every chromosomes"
   ]
  },
  {
   "cell_type": "code",
   "execution_count": 18,
   "id": "herbal-kingdom",
   "metadata": {},
   "outputs": [
    {
     "name": "stderr",
     "output_type": "stream",
     "text": [
      "UsageError: Cell magic `%%` not found.\n"
     ]
    }
   ],
   "source": [
    "%%\n",
    "for chr in {1..23}; /\n",
    "do plink --bfile $chr --pheno ukb_alz.pheno --pheno-name alz_wt /\n",
    "--assoc --allow-no-sex --out test_${chr}; /\n",
    "done"
   ]
  },
  {
   "cell_type": "markdown",
   "id": "based-drilling",
   "metadata": {},
   "source": [
    "Running plink but on the full toy data"
   ]
  },
  {
   "cell_type": "code",
   "execution_count": 19,
   "id": "heavy-criticism",
   "metadata": {},
   "outputs": [
    {
     "name": "stderr",
     "output_type": "stream",
     "text": [
      "UsageError: Cell magic `%%` not found.\n"
     ]
    }
   ],
   "source": [
    "%%\n",
    "plink --bfile unrel_10k_EUR --pheno ukb_alz.pheno --pheno-name alz_wt /\n",
    "--assoc --allow-no-sex --out test_full_data"
   ]
  },
  {
   "cell_type": "markdown",
   "id": "informative-patrick",
   "metadata": {},
   "source": [
    "Grepping only the parts of interessests for a Manhattan plot\n",
    "CHR (1 chromosome), SNP (2), BP (3 base pair), P (4 P-value)"
   ]
  },
  {
   "cell_type": "code",
   "execution_count": 20,
   "id": "popular-maine",
   "metadata": {},
   "outputs": [
    {
     "name": "stderr",
     "output_type": "stream",
     "text": [
      "UsageError: Cell magic `%%` not found.\n"
     ]
    }
   ],
   "source": [
    "%%\n",
    "awk '{if (NR>1) print $1, $2, $3,$9}' test_full_data.qassoc | grep -v NA > plot.full_data.txt"
   ]
  },
  {
   "cell_type": "markdown",
   "id": "meaning-gabriel",
   "metadata": {},
   "source": [
    "Unzipping"
   ]
  },
  {
   "cell_type": "code",
   "execution_count": 21,
   "id": "contemporary-mainland",
   "metadata": {},
   "outputs": [
    {
     "name": "stderr",
     "output_type": "stream",
     "text": [
      "UsageError: Cell magic `%%` not found.\n"
     ]
    }
   ],
   "source": [
    "%%\n",
    "gunzip ukb_alz.covs.gz"
   ]
  },
  {
   "cell_type": "markdown",
   "id": "healthy-relations",
   "metadata": {},
   "source": [
    "When running for too long,\n",
    "create a file (tutojob f.ex)"
   ]
  },
  {
   "cell_type": "code",
   "execution_count": 23,
   "id": "perfect-ethiopia",
   "metadata": {},
   "outputs": [
    {
     "name": "stderr",
     "output_type": "stream",
     "text": [
      "UsageError: Cell magic `%%` not found.\n"
     ]
    }
   ],
   "source": [
    "%%\n",
    "nano tutojob"
   ]
  },
  {
   "cell_type": "markdown",
   "id": "instructional-rebecca",
   "metadata": {},
   "source": [
    "Fill the file with the following commands + the job you want to be done\n",
    "\n",
    "--linear: make a linear regression (again here --assoc is not possible since we are using covars)\n",
    "\n",
    "--covar: asks for the covariates files\n",
    "\n",
    "--memory: the memory use may be too small (here push from 2GB to 4GB)"
   ]
  },
  {
   "cell_type": "code",
   "execution_count": 25,
   "id": "typical-magic",
   "metadata": {},
   "outputs": [
    {
     "name": "stderr",
     "output_type": "stream",
     "text": [
      "UsageError: Cell magic `%%` not found.\n"
     ]
    }
   ],
   "source": [
    "%%\n",
    "#!/bin/bash\n",
    "#SBATCH -N 1\n",
    "#SBATCH -t 48:00:00\n",
    "#SBATCH --output=\"job%j.o\"\n",
    "#SBATCH --error=\"job%j.e\"\n",
    "cd $HOME/toydata/unrel_10K_EUR || exit\n",
    "module load pre2019\n",
    "module load plink/1.90b6.9\n",
    "for i in {1..16}; do\n",
    "(\n",
    "plink --bfile $i --pheno ukb_alz.pheno --pheno-name alz_wt --linear --covar ukb_alz.covs --allow-no-sex --memory 4000 --out test_full_data_02\n",
    ")&\n",
    "done\n",
    "wait"
   ]
  },
  {
   "cell_type": "markdown",
   "id": "grateful-chassis",
   "metadata": {},
   "source": [
    "Run you job"
   ]
  },
  {
   "cell_type": "code",
   "execution_count": 26,
   "id": "hydraulic-winner",
   "metadata": {},
   "outputs": [
    {
     "name": "stderr",
     "output_type": "stream",
     "text": [
      "UsageError: Cell magic `%%` not found.\n"
     ]
    }
   ],
   "source": [
    "%%\n",
    "sbatch tutojob"
   ]
  },
  {
   "cell_type": "markdown",
   "id": "legendary-lebanon",
   "metadata": {},
   "source": [
    "See where your jobs using your username (here matthieu), you will be able to see the job ID"
   ]
  },
  {
   "cell_type": "code",
   "execution_count": 28,
   "id": "interested-grenada",
   "metadata": {},
   "outputs": [
    {
     "name": "stderr",
     "output_type": "stream",
     "text": [
      "UsageError: Cell magic `%%` not found.\n"
     ]
    }
   ],
   "source": [
    "%%\n",
    "squeue -u matthieu"
   ]
  },
  {
   "cell_type": "markdown",
   "id": "native-sense",
   "metadata": {},
   "source": [
    "Cancel your job"
   ]
  },
  {
   "cell_type": "code",
   "execution_count": 29,
   "id": "frozen-nylon",
   "metadata": {},
   "outputs": [
    {
     "name": "stderr",
     "output_type": "stream",
     "text": [
      "UsageError: Cell magic `%%` not found.\n"
     ]
    }
   ],
   "source": [
    "%%\n",
    "scancel [jobid]"
   ]
  },
  {
   "cell_type": "markdown",
   "id": "wrapped-sugar",
   "metadata": {},
   "source": [
    "Script to concatenate multiple files together (here multiple chromosomes)"
   ]
  },
  {
   "cell_type": "code",
   "execution_count": 1,
   "id": "attempted-start",
   "metadata": {},
   "outputs": [
    {
     "name": "stderr",
     "output_type": "stream",
     "text": [
      "UsageError: Cell magic `%%` not found.\n"
     ]
    }
   ],
   "source": [
    "%%\n",
    "head -1 FINAL_17.assoc.linear > head.txt # Take the headers and put them in a separate file\n",
    "grep ADD FINAL_*.assoc.linear > data.txt \n",
    "cat head.txt data.txt > data1.txt"
   ]
  },
  {
   "cell_type": "markdown",
   "id": "missing-buddy",
   "metadata": {},
   "source": [
    "count elements of a file"
   ]
  },
  {
   "cell_type": "code",
   "execution_count": 2,
   "id": "confidential-cheese",
   "metadata": {},
   "outputs": [
    {
     "name": "stderr",
     "output_type": "stream",
     "text": [
      "UsageError: Cell magic `%%` not found.\n"
     ]
    }
   ],
   "source": [
    "%%\n",
    "wc -l <file>"
   ]
  },
  {
   "cell_type": "markdown",
   "id": "incoming-scanner",
   "metadata": {},
   "source": [
    "Exctract only the data that interest us (Chrom, SNP, BP, P)"
   ]
  },
  {
   "cell_type": "code",
   "execution_count": 4,
   "id": "patent-chance",
   "metadata": {},
   "outputs": [
    {
     "name": "stderr",
     "output_type": "stream",
     "text": [
      "UsageError: Cell magic `%%` not found.\n"
     ]
    }
   ],
   "source": [
    "%%\n",
    "awk '{if (NR>1) print $2, $3, $4,$10}' data1.txt | grep grep -v NA > data2.txt"
   ]
  },
  {
   "cell_type": "code",
   "execution_count": null,
   "id": "tamil-volume",
   "metadata": {},
   "outputs": [],
   "source": []
  }
 ],
 "metadata": {
  "kernelspec": {
   "display_name": "Python 3",
   "language": "python",
   "name": "python3"
  },
  "language_info": {
   "codemirror_mode": {
    "name": "ipython",
    "version": 3
   },
   "file_extension": ".py",
   "mimetype": "text/x-python",
   "name": "python",
   "nbconvert_exporter": "python",
   "pygments_lexer": "ipython3",
   "version": "3.8.6"
  }
 },
 "nbformat": 4,
 "nbformat_minor": 5
}

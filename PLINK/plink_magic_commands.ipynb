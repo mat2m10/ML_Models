{
 "cells": [
  {
   "cell_type": "markdown",
   "id": "exotic-sellers",
   "metadata": {},
   "source": [
    "# Using PLINK to run a GWAS Analyse"
   ]
  },
  {
   "cell_type": "markdown",
   "id": "significant-democrat",
   "metadata": {},
   "source": [
    "### Toy data received"
   ]
  },
  {
   "cell_type": "markdown",
   "id": "passive-executive",
   "metadata": {},
   "source": [
    "toy data from UKBiobank with 10_000 individuals: unrel_10k_EUR, \n",
    "Alzeihmer dissease phenotypes created following the method from Jansen et al. paper: ukb_alz.pheno\n",
    "Multiple covariate (sex, localisation): ukb_alz.cov"
   ]
  },
  {
   "cell_type": "markdown",
   "id": "visible-contamination",
   "metadata": {},
   "source": [
    "### PLINKing"
   ]
  },
  {
   "cell_type": "markdown",
   "id": "consolidated-eight",
   "metadata": {},
   "source": [
    "Following command is used to extract only one chromosome from the data"
   ]
  },
  {
   "cell_type": "code",
   "execution_count": 14,
   "id": "independent-frequency",
   "metadata": {},
   "outputs": [
    {
     "name": "stderr",
     "output_type": "stream",
     "text": [
      "UsageError: Cell magic `%%` not found.\n"
     ]
    }
   ],
   "source": [
    "%%\n",
    "plink --bfile unrel_10k_EUR --chr 2 --make-bed --out 2"
   ]
  },
  {
   "cell_type": "markdown",
   "id": "concerned-delicious",
   "metadata": {},
   "source": [
    "Changing the access rights to a folder"
   ]
  },
  {
   "cell_type": "code",
   "execution_count": 15,
   "id": "several-mexican",
   "metadata": {},
   "outputs": [
    {
     "name": "stderr",
     "output_type": "stream",
     "text": [
      "UsageError: Cell magic `%%` not found.\n"
     ]
    }
   ],
   "source": [
    "%%\n",
    "chmod +rwx alz_cc.plink"
   ]
  },
  {
   "cell_type": "markdown",
   "id": "included-worker",
   "metadata": {},
   "source": [
    "Observing the head of an interessting *zipped* data"
   ]
  },
  {
   "cell_type": "code",
   "execution_count": 16,
   "id": "instructional-package",
   "metadata": {},
   "outputs": [
    {
     "name": "stderr",
     "output_type": "stream",
     "text": [
      "UsageError: Cell magic `%%` not found.\n"
     ]
    }
   ],
   "source": [
    "%%\n",
    "zcat ukb_alz.pheno.gz | head"
   ]
  },
  {
   "cell_type": "markdown",
   "id": "documentary-messaging",
   "metadata": {},
   "source": [
    "Changing folders from one place to another"
   ]
  },
  {
   "cell_type": "code",
   "execution_count": 17,
   "id": "smart-engineer",
   "metadata": {},
   "outputs": [
    {
     "name": "stderr",
     "output_type": "stream",
     "text": [
      "UsageError: Cell magic `%%` not found.\n"
     ]
    }
   ],
   "source": [
    "%%\n",
    "scp -r alz_matthieu/ukb_alz.pheno.gz unrel_10K_EUR/"
   ]
  },
  {
   "cell_type": "code",
   "execution_count": null,
   "id": "veterinary-raising",
   "metadata": {},
   "outputs": [],
   "source": []
  }
 ],
 "metadata": {
  "kernelspec": {
   "display_name": "Python 3",
   "language": "python",
   "name": "python3"
  },
  "language_info": {
   "codemirror_mode": {
    "name": "ipython",
    "version": 3
   },
   "file_extension": ".py",
   "mimetype": "text/x-python",
   "name": "python",
   "nbconvert_exporter": "python",
   "pygments_lexer": "ipython3",
   "version": "3.8.6"
  }
 },
 "nbformat": 4,
 "nbformat_minor": 5
}

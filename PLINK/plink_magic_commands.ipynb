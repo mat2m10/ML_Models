{
 "cells": [
  {
   "cell_type": "markdown",
   "metadata": {},
   "source": [
    "# Using PLINK to run a GWAS Analyse"
   ]
  },
  {
   "cell_type": "markdown",
   "metadata": {},
   "source": [
    "### Toy data received"
   ]
  },
  {
   "cell_type": "markdown",
   "metadata": {},
   "source": [
    "toy data from UKBiobank with 10_000 individuals: unrel_10k_EUR, \n",
    "Alzeihmer dissease phenotypes created following the method from Jansen et al. paper: ukb_alz.pheno\n",
    "Multiple covariate (sex, localisation): ukb_alz.cov"
   ]
  },
  {
   "cell_type": "markdown",
   "metadata": {},
   "source": [
    "### PLINKing"
   ]
  },
  {
   "cell_type": "markdown",
   "metadata": {},
   "source": [
    "Following command is used to extract only one chromosome from the data\n",
    "\n",
    "--bfile: tels plink it is a bed file\n",
    "\n",
    "--chr: lets you choose the chromosome\n",
    "\n",
    "--make-bed: recreates bed, bim, fam files "
   ]
  },
  {
   "cell_type": "code",
   "execution_count": 14,
   "metadata": {},
   "outputs": [
    {
     "name": "stderr",
     "output_type": "stream",
     "text": [
      "UsageError: Cell magic `%%` not found.\n"
     ]
    }
   ],
   "source": [
    "%%\n",
    "plink2 --bfile unrel_10k_EUR --chr 2 --make-bed --out 2"
   ]
  },
  {
   "cell_type": "markdown",
   "metadata": {},
   "source": [
    "Extracting only some selected snp's to do some testing"
   ]
  },
  {
   "cell_type": "code",
   "execution_count": 1,
   "metadata": {},
   "outputs": [
    {
     "name": "stderr",
     "output_type": "stream",
     "text": [
      "UsageError: Cell magic `%%` not found.\n"
     ]
    }
   ],
   "source": [
    "%%\n",
    "plink --bfile unrel_10k_EUR --snps 10:68564:A_G-10:73537:A_G, 10:82187:C_G, 10:85499:A_G --make-bed --out TESTING"
   ]
  },
  {
   "cell_type": "markdown",
   "metadata": {},
   "source": [
    "Changing the access rights to a folder"
   ]
  },
  {
   "cell_type": "code",
   "execution_count": 15,
   "metadata": {},
   "outputs": [
    {
     "name": "stderr",
     "output_type": "stream",
     "text": [
      "UsageError: Cell magic `%%` not found.\n"
     ]
    }
   ],
   "source": [
    "%%\n",
    "chmod +rwx alz_cc.plink"
   ]
  },
  {
   "cell_type": "markdown",
   "metadata": {},
   "source": [
    "Observing the head of an interessting *zipped* data"
   ]
  },
  {
   "cell_type": "code",
   "execution_count": 16,
   "metadata": {},
   "outputs": [
    {
     "name": "stderr",
     "output_type": "stream",
     "text": [
      "UsageError: Cell magic `%%` not found.\n"
     ]
    }
   ],
   "source": [
    "%%\n",
    "zcat ukb_alz.pheno.gz | head"
   ]
  },
  {
   "cell_type": "markdown",
   "metadata": {},
   "source": [
    "Changing folders from one place to another"
   ]
  },
  {
   "cell_type": "code",
   "execution_count": 17,
   "metadata": {},
   "outputs": [
    {
     "name": "stderr",
     "output_type": "stream",
     "text": [
      "UsageError: Cell magic `%%` not found.\n"
     ]
    }
   ],
   "source": [
    "%%\n",
    "scp -r alz_matthieu/ukb_alz.pheno.gz unrel_10K_EUR/"
   ]
  },
  {
   "cell_type": "markdown",
   "metadata": {},
   "source": [
    "Running plink on the phenotypes (in this case only for chromosome 1)\n",
    "\n",
    "--pheno: asks for a phenotype file\n",
    "\n",
    "--pheno-name: lets you specify the name of the phenotype you want to analyse\n",
    "\n",
    "--assoc: Simple association (important: does not run covariate, and no error statement!)\n",
    "\n"
   ]
  },
  {
   "cell_type": "code",
   "execution_count": null,
   "metadata": {},
   "outputs": [],
   "source": [
    "%%\n",
    "plink --bfile 1 --pheno ukb_alz.pheno --pheno-name alz_wt --assoc --allow-no-sex --out test_1"
   ]
  },
  {
   "cell_type": "markdown",
   "metadata": {},
   "source": [
    "Sexy looping instead of manually doing it for every chromosomes"
   ]
  },
  {
   "cell_type": "code",
   "execution_count": 18,
   "metadata": {},
   "outputs": [
    {
     "name": "stderr",
     "output_type": "stream",
     "text": [
      "UsageError: Cell magic `%%` not found.\n"
     ]
    }
   ],
   "source": [
    "%%\n",
    "for chr in {1..23}; /\n",
    "do plink --bfile $chr --pheno ukb_alz.pheno --pheno-name alz_wt /\n",
    "--assoc --allow-no-sex --out test_${chr}; /\n",
    "done"
   ]
  },
  {
   "cell_type": "markdown",
   "metadata": {},
   "source": [
    "Running plink but on the full toy data"
   ]
  },
  {
   "cell_type": "code",
   "execution_count": 19,
   "metadata": {},
   "outputs": [
    {
     "name": "stderr",
     "output_type": "stream",
     "text": [
      "UsageError: Cell magic `%%` not found.\n"
     ]
    }
   ],
   "source": [
    "%%\n",
    "plink --bfile unrel_10k_EUR --pheno ukb_alz.pheno --pheno-name alz_wt /\n",
    "--assoc --allow-no-sex --out test_full_data"
   ]
  },
  {
   "cell_type": "markdown",
   "metadata": {},
   "source": [
    "Grepping only the parts of interessests for a Manhattan plot\n",
    "CHR (1 chromosome), SNP (2), BP (3 base pair), P (4 P-value)"
   ]
  },
  {
   "cell_type": "code",
   "execution_count": 20,
   "metadata": {},
   "outputs": [
    {
     "name": "stderr",
     "output_type": "stream",
     "text": [
      "UsageError: Cell magic `%%` not found.\n"
     ]
    }
   ],
   "source": [
    "%%\n",
    "awk '{if (NR>1) print $1, $2, $3,$9}' test_full_data.qassoc | grep -v NA > plot.full_data.txt"
   ]
  },
  {
   "cell_type": "markdown",
   "metadata": {},
   "source": [
    "Unzipping"
   ]
  },
  {
   "cell_type": "code",
   "execution_count": 21,
   "metadata": {},
   "outputs": [
    {
     "name": "stderr",
     "output_type": "stream",
     "text": [
      "UsageError: Cell magic `%%` not found.\n"
     ]
    }
   ],
   "source": [
    "%%\n",
    "gunzip ukb_alz.covs.gz"
   ]
  },
  {
   "cell_type": "markdown",
   "metadata": {},
   "source": [
    "When running for too long,\n",
    "create a file (tutojob f.ex)"
   ]
  },
  {
   "cell_type": "code",
   "execution_count": 23,
   "metadata": {},
   "outputs": [
    {
     "name": "stderr",
     "output_type": "stream",
     "text": [
      "UsageError: Cell magic `%%` not found.\n"
     ]
    }
   ],
   "source": [
    "%%\n",
    "nano tutojob"
   ]
  },
  {
   "cell_type": "markdown",
   "metadata": {},
   "source": [
    "Fill the file with the following commands + the job you want to be done\n",
    "\n",
    "--linear: make a linear regression (again here --assoc is not possible since we are using covars)\n",
    "\n",
    "--pheno: asks for the phenotype to be analysed\n",
    "\n",
    "--covar: asks for the covariates files\n",
    "\n",
    "--memory: the memory use may be too small (here push from 2GB to 4GB)\n",
    "\n",
    "--threads: Use only one core and then assign the job to multiple cores.\n",
    "\n",
    "--maf: filter the minor allele frequency\n",
    "\n",
    "\"&\": To put every part of the loop as background process\n",
    "\n"
   ]
  },
  {
   "cell_type": "code",
   "execution_count": 25,
   "metadata": {},
   "outputs": [
    {
     "name": "stderr",
     "output_type": "stream",
     "text": [
      "UsageError: Cell magic `%%` not found.\n"
     ]
    }
   ],
   "source": [
    "#!/bin/bash\n",
    "#SBATCH -N 1\n",
    "#SBATCH -t 75:00:00\n",
    "#SBATCH --output=job%j.o\n",
    "#SBATCH --error=job%j.e\n",
    "cd $TMPDIR\n",
    "for i in {1..16}; do\n",
    "(\n",
    "cp $HOME/toydata/unrel_10K_EUR/$i* ./\n",
    ")\n",
    "done\n",
    "cp $HOME/toydata/unrel_10K_EUR/ukb_alz* ./\n",
    "module load 2019\n",
    "module load PLINK/2.00-alpha1-x86_64\n",
    "\n",
    "for i in {1..16}; do\n",
    "(\n",
    "plink2 --bfile $i --pheno ukb_alz.pheno --pheno-name alz_lin \\\n",
    "    --linear --covar ukb_alz.covs --covar-name sex, f.21022.0.0, \\\n",
    "    assesscentre11004, assesscentre11005, assesscentre11006, assesscentre11007, \\\n",
    "    assesscentre11008, assesscentre11009, assesscentre11010, assesscentre11011, \\\n",
    "    assesscentre11012, assesscentre11013, assesscentre11014, assesscentre11016, \\\n",
    "    assesscentre11017, assesscentre11018, assesscentre11020, assesscentre11021, \\\n",
    "    assesscentre11022, assesscentre11023, pop_pc1, pop_pc2, pop_pc3, pop_pc4, \\\n",
    "    pop_pc5, pop_pc6, pop_pc7, pop_pc8, pop_pc9, pop_pc10, pop_pc11, pop_pc12, \\\n",
    "    pop_pc13, pop_pc14, pop_pc15, pop_pc16, pop_pc17, pop_pc18, pop_pc19, pop_pc20,\\\n",
    "    pop_pc21, pop_pc22, pop_pc23, pop_pc24, pop_pc25, pop_pc26, pop_pc27, pop_pc28, \\\n",
    "    pop_pc29, pop_pc30 \\\n",
    "    --allow-no-sex --memory 4000 --threads 1 --maf .01\\\n",
    "    --out FINAL_$i\n",
    ")&\n",
    "done\n",
    "wait\n",
    "cp FINAL* $HOME/toydata/unrel_10K_EUR/\n"
   ]
  },
  {
   "cell_type": "code",
   "execution_count": null,
   "metadata": {},
   "outputs": [],
   "source": [
    "#!/bin/bash\n",
    "#SBATCH -N 1\n",
    "#SBATCH -t 75:00:00\n",
    "#SBATCH --output=job%j.o\n",
    "#SBATCH --error=job%j.e\n",
    "cd $TMPDIR\n",
    "for i in {17..23}; do\n",
    "(\n",
    "cp $HOME/toydata/unrel_10K_EUR/$i* ./\n",
    ")\n",
    "done\n",
    "cp $HOME/toydata/unrel_10K_EUR/ukb_alz* ./\n",
    "module load 2019\n",
    "module load PLINK/2.00-alpha1-x86_64\n",
    "\n",
    "for i in {17..23}; do\n",
    "(\n",
    "plink2 --bfile $i --pheno ukb_alz.pheno --pheno-name alz_lin \\\n",
    "    --linear --covar ukb_alz.covs --covar-name sex, f.21022.0.0, \\\n",
    "    assesscentre11004, assesscentre11005, assesscentre11006, assesscentre11007, \\\n",
    "    assesscentre11008, assesscentre11009, assesscentre11010, assesscentre11011, \\\n",
    "    assesscentre11012, assesscentre11013, assesscentre11014, assesscentre11016, \\\n",
    "    assesscentre11017, assesscentre11018, assesscentre11020, assesscentre11021, \\\n",
    "    assesscentre11022, assesscentre11023, pop_pc1, pop_pc2, pop_pc3, pop_pc4, \\\n",
    "    pop_pc5, pop_pc6, pop_pc7, pop_pc8, pop_pc9, pop_pc10, pop_pc11, pop_pc12, \\\n",
    "    pop_pc13, pop_pc14, pop_pc15, pop_pc16, pop_pc17, pop_pc18, pop_pc19, pop_pc20,\\\n",
    "    pop_pc21, pop_pc22, pop_pc23, pop_pc24, pop_pc25, pop_pc26, pop_pc27, pop_pc28, \\\n",
    "    pop_pc29, pop_pc30 \\\n",
    "    --allow-no-sex --memory 4000 --threads 1 --maf .01\\\n",
    "    --out FINAL_$i\n",
    ")&\n",
    "done\n",
    "wait\n",
    "cp FINAL* $HOME/toydata/unrel_10K_EUR/"
   ]
  },
  {
   "cell_type": "markdown",
   "metadata": {},
   "source": [
    "Run you job"
   ]
  },
  {
   "cell_type": "code",
   "execution_count": 26,
   "metadata": {},
   "outputs": [
    {
     "name": "stderr",
     "output_type": "stream",
     "text": [
      "UsageError: Cell magic `%%` not found.\n"
     ]
    }
   ],
   "source": [
    "%%\n",
    "sbatch tutojob"
   ]
  },
  {
   "cell_type": "markdown",
   "metadata": {},
   "source": [
    "See where your jobs using your username (here matthieu), you will be able to see the job ID"
   ]
  },
  {
   "cell_type": "code",
   "execution_count": 28,
   "metadata": {},
   "outputs": [
    {
     "name": "stderr",
     "output_type": "stream",
     "text": [
      "UsageError: Cell magic `%%` not found.\n"
     ]
    }
   ],
   "source": [
    "%%\n",
    "356"
   ]
  },
  {
   "cell_type": "markdown",
   "metadata": {},
   "source": [
    "Cancel your job"
   ]
  },
  {
   "cell_type": "code",
   "execution_count": 29,
   "metadata": {},
   "outputs": [
    {
     "name": "stderr",
     "output_type": "stream",
     "text": [
      "UsageError: Cell magic `%%` not found.\n"
     ]
    }
   ],
   "source": [
    "%%\n",
    "scancel [jobid]"
   ]
  },
  {
   "cell_type": "markdown",
   "metadata": {},
   "source": [
    "Script to concatenate multiple files together (here multiple chromosomes)\n",
    "-h is for conCATanating (cat) without adding the file name"
   ]
  },
  {
   "cell_type": "code",
   "execution_count": 1,
   "metadata": {},
   "outputs": [
    {
     "name": "stderr",
     "output_type": "stream",
     "text": [
      "UsageError: Cell magic `%%` not found.\n"
     ]
    }
   ],
   "source": [
    "%%\n",
    "head -1 FINAL_23.alz_wt.glm.linear > head.txt # Take the headers and put them in a separate file\n",
    "grep -h ADD FINAL_*.alz_wt.glm.linear > temp.txt \n",
    "cat head.txt temp.txt > data.txt\n",
    "rm temp.txt head.txt"
   ]
  },
  {
   "cell_type": "markdown",
   "metadata": {},
   "source": [
    "count elements of a file"
   ]
  },
  {
   "cell_type": "code",
   "execution_count": 2,
   "metadata": {},
   "outputs": [
    {
     "name": "stderr",
     "output_type": "stream",
     "text": [
      "UsageError: Cell magic `%%` not found.\n"
     ]
    }
   ],
   "source": [
    "%%\n",
    "wc -l <file>"
   ]
  },
  {
   "cell_type": "markdown",
   "metadata": {},
   "source": [
    "Exctract only the data that interest us (Chrom, SNP, BP, P)\n",
    "\n",
    "(This is done if you did not use the -h command on cat)"
   ]
  },
  {
   "cell_type": "code",
   "execution_count": 2,
   "metadata": {},
   "outputs": [
    {
     "name": "stderr",
     "output_type": "stream",
     "text": [
      "UsageError: Cell magic `%%` not found.\n"
     ]
    }
   ],
   "source": [
    "%%\n",
    "#data.txt | cut -f2 -d\"L\" | head\n",
    "awk '{if (NR>1) print $1, $3, $2, $12}' data.txt | grep -v NA > data2.txt\n",
    "# If like me you had the good idea of calling your folders with an NA (FINAL) as name\n",
    "awk '{if (NR>1) print $1, $3, $2, $12}' data.txt | cut -f2 -d\"L\" | grep -v NA > data2.txt\n",
    "# If you want to change a whole line in a file (.alz_wt.glm.linear:) in another (M)\n",
    "sed 's/.alz_wt.glm.linear:/M/' data2.txt > data3.txt\n",
    "# Still had some issues with data processing\n",
    "awk '{print $1, $2, $3, $4}' data3.txt | cut -f2 -d\"M\" > data.txt\n",
    "rm data2.txt data3.txt\n",
    "# Change the X chrom into 23 integer\n",
    "sed 's/X/23/' data.txt > data2.txt\n",
    "rm data.txt\n",
    "# Sort the file numerically -n\n",
    "sort -n data2.txt > data.txt"
   ]
  },
  {
   "cell_type": "code",
   "execution_count": null,
   "metadata": {},
   "outputs": [],
   "source": [
    "%%\n",
    "\"\"\"\n",
    "Right way to do finaly...\n",
    "\"\"\"\n",
    "awk '{if (NR>1) print $1, $3, $2, $12}' data.txt | grep -v NA > data2.txt\n",
    "sed 's/X/23/' data2.txt > dataX.txt\n",
    "sort -n dataX.txt > data_<pheno>.txt"
   ]
  },
  {
   "cell_type": "markdown",
   "metadata": {},
   "source": [
    "If you want to have allele frequencies (hier van chromosome 10)\n",
    "\n"
   ]
  },
  {
   "cell_type": "code",
   "execution_count": 1,
   "metadata": {},
   "outputs": [
    {
     "name": "stderr",
     "output_type": "stream",
     "text": [
      "UsageError: Cell magic `%%` not found.\n"
     ]
    }
   ],
   "source": [
    "%%\n",
    "plink2 --bfile 10 --freq --out 10\n"
   ]
  },
  {
   "cell_type": "markdown",
   "metadata": {
    "heading_collapsed": true
   },
   "source": [
    "## Rstudio code"
   ]
  },
  {
   "cell_type": "code",
   "execution_count": 5,
   "metadata": {
    "hidden": true
   },
   "outputs": [
    {
     "name": "stderr",
     "output_type": "stream",
     "text": [
      "UsageError: Cell magic `%%` not found.\n"
     ]
    }
   ],
   "source": [
    "%%\n",
    "library(qqman) # Library for Manhattan plot\n",
    "library(\"data.table\") # Fast aggregation of large data\n",
    "library(\"readr\") # Easy read of rectangular data\n",
    "data <- fread(\"data2.txt\", head=FALSE)\n",
    "colnames(data)<-c(\"CHR\", \"SNP\",\"BP\",\"P\") # Put a header on the data\n",
    "a = subset(data, data$P<0.001) # Select only the significante SNP's (low P-Value)\n",
    "jpeg(\"manhattan2.jpeg\")\n",
    "manhattan(a,chr=\"CHR\",bp=\"BP\",p=\"P\",snp=\"SNP\", main = \"plot\")\n",
    "dev.off()"
   ]
  },
  {
   "cell_type": "markdown",
   "metadata": {},
   "source": [
    "# JOBS Commands"
   ]
  },
  {
   "cell_type": "code",
   "execution_count": 1,
   "metadata": {},
   "outputs": [
    {
     "name": "stderr",
     "output_type": "stream",
     "text": [
      "UsageError: Cell magic `%%` not found.\n"
     ]
    }
   ],
   "source": [
    "%%\n",
    "sbatch [job] #Submit your job\n",
    "squeue -u [user] # Check the status of your jobs\n",
    "squeue | more # TO CHECK\n",
    "scancel [jobid]"
   ]
  },
  {
   "cell_type": "markdown",
   "metadata": {
    "heading_collapsed": true
   },
   "source": [
    "### Check where the job is at"
   ]
  },
  {
   "cell_type": "code",
   "execution_count": 2,
   "metadata": {
    "hidden": true
   },
   "outputs": [
    {
     "name": "stderr",
     "output_type": "stream",
     "text": [
      "UsageError: Cell magic `%%` not found.\n"
     ]
    }
   ],
   "source": [
    "%%\n",
    "slurm_joblogin <jobid>\n",
    "cd /scratch/slurm.<jobid>/scratch"
   ]
  },
  {
   "cell_type": "markdown",
   "metadata": {},
   "source": [
    "# Build Genotype Matrix\n",
    "\n"
   ]
  },
  {
   "cell_type": "markdown",
   "metadata": {},
   "source": [
    "Run job to use bed, fam, bim, to build raw genotype matrix\n",
    "\n",
    "--recode A: recode bed,fam,bim in matrix of (0,1,2)\n"
   ]
  },
  {
   "cell_type": "code",
   "execution_count": 1,
   "metadata": {},
   "outputs": [
    {
     "name": "stderr",
     "output_type": "stream",
     "text": [
      "UsageError: Cell magic `%%` not found.\n"
     ]
    }
   ],
   "source": [
    "%%\n",
    "#!/bin/bash\n",
    "#SBATCH -N 1\n",
    "#SBATCH -t 75:00:00\n",
    "#SBATCH --output=job%j.o\n",
    "#SBATCH --error=job%j.e\n",
    "cd $TMPDIR\n",
    "cp $HOME/toydata/unrel_10K_EUR/10* ./\n",
    "\n",
    "module load 2019\n",
    "module load PLINK/2.00-alpha1-x86_64\n",
    "plink2 --bfile 10 --recode A --out chromo_1\n",
    "wait\n",
    "cp chromo_1* $HOME/toydata/unrel_10K_EUR/\n"
   ]
  },
  {
   "cell_type": "markdown",
   "metadata": {},
   "source": [
    "Download the matrix locally\n"
   ]
  },
  {
   "cell_type": "code",
   "execution_count": 3,
   "metadata": {},
   "outputs": [
    {
     "name": "stderr",
     "output_type": "stream",
     "text": [
      "UsageError: Cell magic `%%` not found.\n"
     ]
    }
   ],
   "source": [
    "%%\n",
    "\n",
    "scp -r matthieu@lisa.surfsara.nl:toydata/unrel_10K_EUR/chromo_1.raw .\n",
    "    "
   ]
  },
  {
   "cell_type": "markdown",
   "metadata": {},
   "source": [
    "Build a genotype matrix of the type AA CT TT .."
   ]
  },
  {
   "cell_type": "code",
   "execution_count": 3,
   "metadata": {},
   "outputs": [
    {
     "name": "stderr",
     "output_type": "stream",
     "text": [
      "UsageError: Cell magic `%%` not found.\n"
     ]
    }
   ],
   "source": [
    "%%\n",
    "\n",
    "module load pre2019\n",
    "module load plink/1.90b6.9 # Recode does not fair well in plink 2\n",
    "plink --bfile 20 --snps-only --recode --out 20 # A A T C G\n",
    "head 20.ped | sed \"s/\\([^ ]\\{1,\\}\\) \\([^ ]\\{1,\\}\\)/\\1\\2/g\" > toy20.txt\n",
    "# Cutting the fam id and id\n",
    "cut -d \" \" -f 7- toyped_$i.ped | sed \"s/\\([^ ]\\{1,\\}\\) \\([^ ]\\{1,\\}\\)/\\1\\2/g\"  > chrom_$i.mat\n",
    "#perl solution is much faster (runFORMAT3):\n",
    "cut -d \" \" -f 7- toyped_$i.ped | perl -ple 's/(.) (.)/$1$2/g' > chromy_$i.mat"
   ]
  },
  {
   "cell_type": "markdown",
   "metadata": {},
   "source": [
    "# Matlab\n"
   ]
  },
  {
   "cell_type": "markdown",
   "metadata": {},
   "source": [
    "Loading Matlab in Lisa"
   ]
  },
  {
   "cell_type": "code",
   "execution_count": 1,
   "metadata": {},
   "outputs": [
    {
     "name": "stderr",
     "output_type": "stream",
     "text": [
      "UsageError: Cell magic `%%` not found.\n"
     ]
    }
   ],
   "source": [
    "%%\n",
    "module load 2020\n",
    "module load MATLAB/2020a\n",
    "matlab"
   ]
  },
  {
   "cell_type": "markdown",
   "metadata": {},
   "source": [
    "Read matrix in matlab\n"
   ]
  },
  {
   "cell_type": "code",
   "execution_count": 3,
   "metadata": {},
   "outputs": [
    {
     "name": "stderr",
     "output_type": "stream",
     "text": [
      "UsageError: Cell magic `%%` not found.\n"
     ]
    }
   ],
   "source": [
    "%%\n",
    "M2 = readmatrix(\"minitoyfreq.txt\")\n",
    "size(M2) # Check the size of the matrix\n"
   ]
  },
  {
   "cell_type": "markdown",
   "metadata": {},
   "source": [
    "Reschape matrix in array (123;456;789) -> [123456789]\n"
   ]
  },
  {
   "cell_type": "code",
   "execution_count": 4,
   "metadata": {},
   "outputs": [
    {
     "name": "stderr",
     "output_type": "stream",
     "text": [
      "UsageError: Cell magic `%%` not found.\n"
     ]
    }
   ],
   "source": [
    "%%\n",
    "\n",
    "M3 = reshape(M2.',1,[])\n",
    "size(M3) # Check the size of the array (1xn)"
   ]
  },
  {
   "cell_type": "markdown",
   "metadata": {},
   "source": [
    "Make a matrix of repeated identical arrays [M3,M3,M3,...]\n"
   ]
  },
  {
   "cell_type": "code",
   "execution_count": 5,
   "metadata": {},
   "outputs": [
    {
     "name": "stderr",
     "output_type": "stream",
     "text": [
      "UsageError: Cell magic `%%` not found.\n"
     ]
    }
   ],
   "source": [
    "%%\n",
    "\n",
    "M4 = repmat(M3, 100, 1)"
   ]
  },
  {
   "cell_type": "markdown",
   "metadata": {},
   "source": [
    "Save variable in a file\n"
   ]
  },
  {
   "cell_type": "code",
   "execution_count": 6,
   "metadata": {},
   "outputs": [
    {
     "name": "stderr",
     "output_type": "stream",
     "text": [
      "UsageError: Cell magic `%%` not found.\n"
     ]
    }
   ],
   "source": [
    "%%\n",
    "\n",
    "save(\"./chromo_1.mat\",\"X\",'-v7.3')\n"
   ]
  },
  {
   "cell_type": "markdown",
   "metadata": {},
   "source": [
    "Reading a ped file in Matlab\n"
   ]
  },
  {
   "cell_type": "code",
   "execution_count": 1,
   "metadata": {},
   "outputs": [
    {
     "name": "stderr",
     "output_type": "stream",
     "text": [
      "UsageError: Cell magic `%%` not found.\n"
     ]
    }
   ],
   "source": [
    "%%\n",
    "# Creates a cell array\n",
    "\n",
    "M = regexp(fileread('toy20.txt'), '\\r?\\n', 'split');"
   ]
  },
  {
   "cell_type": "markdown",
   "metadata": {},
   "source": [
    "Change every element of the array\n"
   ]
  },
  {
   "cell_type": "code",
   "execution_count": 2,
   "metadata": {},
   "outputs": [
    {
     "name": "stderr",
     "output_type": "stream",
     "text": [
      "UsageError: Cell magic `%%` not found.\n"
     ]
    }
   ],
   "source": [
    "%%\n",
    "indiv = {}\n",
    "Y = {}\n",
    "sz = size(M)\n",
    "for i=1:sz(2)-1\n",
    "    a=M{i};\n",
    "    indiv{end+1} = char(a(1:22))+\" \";\n",
    "    Y{end+1} = char(a(23:end))+ \" \";\n",
    "end\n",
    "X = char(Y)\n",
    "save(\"./chromo_1.mat\",\"X\",'-v7.3')\n"
   ]
  },
  {
   "cell_type": "code",
   "execution_count": null,
   "metadata": {},
   "outputs": [],
   "source": [
    "load(\"chromo_1.mat\")"
   ]
  }
 ],
 "metadata": {
  "kernelspec": {
   "display_name": "Python 3",
   "language": "python",
   "name": "python3"
  },
  "language_info": {
   "codemirror_mode": {
    "name": "ipython",
    "version": 3
   },
   "file_extension": ".py",
   "mimetype": "text/x-python",
   "name": "python",
   "nbconvert_exporter": "python",
   "pygments_lexer": "ipython3",
   "version": "3.7.3"
  },
  "toc": {
   "base_numbering": 1,
   "nav_menu": {},
   "number_sections": true,
   "sideBar": true,
   "skip_h1_title": false,
   "title_cell": "Table of Contents",
   "title_sidebar": "Contents",
   "toc_cell": false,
   "toc_position": {},
   "toc_section_display": true,
   "toc_window_display": false
  }
 },
 "nbformat": 4,
 "nbformat_minor": 5
}

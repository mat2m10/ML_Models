{
 "cells": [
  {
   "cell_type": "markdown",
   "id": "continental-corporation",
   "metadata": {},
   "source": [
    "### Importing necessary packages"
   ]
  },
  {
   "cell_type": "code",
   "execution_count": 2,
   "id": "hidden-stand",
   "metadata": {},
   "outputs": [],
   "source": [
    "import numpy as np\n",
    "import torch\n",
    "import torch.nn as nn\n",
    "import torch.nn.functional as F\n",
    "import math, copy, time\n",
    "from torch.autograd import Variable\n",
    "import matplotlib.pyplot as plt\n",
    "import seaborn\n",
    "seaborn.set_context(context=\"talk\")\n",
    "%matplotlib inline"
   ]
  },
  {
   "cell_type": "markdown",
   "id": "certified-fleet",
   "metadata": {},
   "source": [
    "# Model Architecture"
   ]
  },
  {
   "cell_type": "markdown",
   "id": "genetic-wilson",
   "metadata": {},
   "source": [
    "## EncoderDecoder"
   ]
  },
  {
   "cell_type": "code",
   "execution_count": 3,
   "id": "voluntary-joseph",
   "metadata": {},
   "outputs": [],
   "source": [
    "\"\"\"\n",
    "This is a classic encoder decoder architecture\n",
    "\"\"\"\n",
    "class EncoderDecoder(nn.Module):\n",
    "    \"\"\"\n",
    "    This class inherits from the nn.module the base class for all neural network modules.\n",
    "    \"\"\"\n",
    "    def __init__(self, encoder, decoder, src_embed, tgt_embed, generator):\n",
    "        super(EncoderDecoder, self).__init__()\n",
    "        self.encoder = encoder\n",
    "        self.decoder = decoder\n",
    "        self.src_embed = src_embed\n",
    "        self.generator = generator\n",
    "    \n",
    "    def forward(self, src, tgt, src_mask, tgt_mask):\n",
    "        \"\"\"\n",
    "        Take in and process masked src and target sequences\n",
    "        \"\"\"\n",
    "        return self.decode(self.encode(src, src_mask), src_mask, tgt, tgt_mask)\n",
    "    \n",
    "    def encode(self, src, src_mask):\n",
    "        return self.encoder(self.src_embed(src),src_mask)\n",
    "    \n",
    "    def decode(self, memory, src_mask, tgt, tgt_mask):\n",
    "        return self.decoder(self.tgt_embed(tgt), memory, src_mask, tgt_mask)"
   ]
  },
  {
   "cell_type": "markdown",
   "id": "ongoing-monitor",
   "metadata": {},
   "source": [
    "## Generator"
   ]
  },
  {
   "cell_type": "code",
   "execution_count": 4,
   "id": "unknown-survivor",
   "metadata": {},
   "outputs": [],
   "source": [
    "class Generator(nn.Module):\n",
    "    \"\"\"\n",
    "    Define standard linear + softmax generation steps\n",
    "    \"\"\"\n",
    "    def __init__(self, d_model, vocab):\n",
    "        super(Generator, self).__init__()\n",
    "        self.proj = nn.Linear(d_model, vocab)\n",
    "    def forward(self, x): # x is (d_model, vocab)\n",
    "        return F.log_softmax(self.proj(x), dim=-1)"
   ]
  },
  {
   "cell_type": "markdown",
   "id": "isolated-litigation",
   "metadata": {},
   "source": [
    "## Encoder"
   ]
  },
  {
   "cell_type": "code",
   "execution_count": 8,
   "id": "monetary-allocation",
   "metadata": {},
   "outputs": [],
   "source": [
    "def clones(module, N):\n",
    "    \"\"\"\n",
    "    Produce N identical layers\n",
    "    \"\"\"\n",
    "    return nn.ModuleList([copy.deepcopy(module) for _ in range(N)])\n",
    "class Encoder(nn.Module):\n",
    "    \"\"\"\n",
    "    Core encoder is a stack of N layers\n",
    "    \"\"\"\n",
    "    def __init__(self, layer, N):\n",
    "        super(Encoder,self).__init__()\n",
    "        self.layers = clones(layer, N)\n",
    "        self.norm = LayerNorm(layer.size) # We will build the class layernorm\n",
    "    \n",
    "    def forward(self, x, mask):\n",
    "        \"\"\"\n",
    "        Pass the input (and mask) through each layer in turn\n",
    "        \"\"\"\n",
    "        for layer in self.layers:\n",
    "            x = layer(x, mask)\n",
    "        return self.norm(x)"
   ]
  },
  {
   "cell_type": "markdown",
   "id": "collect-voice",
   "metadata": {},
   "source": [
    "## LayerNorm"
   ]
  },
  {
   "cell_type": "code",
   "execution_count": 6,
   "id": "private-blackberry",
   "metadata": {},
   "outputs": [],
   "source": [
    "class LayerNorm(nn.Module):\n",
    "    \"\"\"\n",
    "    Employ a residual connection around each of the two sub-layers, \n",
    "    followed by layer normalization.\n",
    "    \n",
    "    Deeper neural networks are more difficult to train. \n",
    "    We present a residual learning framework to ease the training of networks \n",
    "    that are substantially deeper than those used previously. \n",
    "    We explicitly reformulate the layers as learning residual functions \n",
    "    with reference to the layer inputs, instead of learning unreferenced functions. \n",
    "    We provide comprehensive empirical evidence showing that these residual networks \n",
    "    are easier to optimize, and can gain accuracy from considerably increased depth. \n",
    "    On the ImageNet dataset we evaluate residual nets with a depth of up to \n",
    "    152 layers---8x deeper than VGG nets but still having lower complexity. \n",
    "    An ensemble of these residual nets achieves 3.57% error on the ImageNet test set. \n",
    "    This result won the 1st place on the ILSVRC 2015 classification task. \n",
    "    We also present analysis on CIFAR-10 with 100 and 1000 layers.\n",
    "    The depth of representations is of central importance for many visual recognition tasks. \n",
    "    Solely due to our extremely deep representations, we obtain a 28% relative improvement \n",
    "    on the COCO object detection dataset. \n",
    "    Deep residual nets are foundations of our submissions to ILSVRC & COCO 2015 competitions, \n",
    "    where we also won the 1st places on the tasks of ImageNet detection, \n",
    "    ImageNet localization, COCO detection, and COCO segmentation.\n",
    "    \n",
    "    Construct a layernorm module:\n",
    "    \"\"\"\n",
    "    def __init__(self, features, eps=1e-6): # features = layer.size\n",
    "        super(LayerNorm, self).__init__()\n",
    "        self.a_2 = nn.Parameter(torch.ones(features))\n",
    "        self.b_2 = nn.Parameter(torch.zeros(features))\n",
    "        self.eps = eps\n",
    "    def forward(self, x):\n",
    "        mean = x.mean(-1, keepdim = True)\n",
    "        std = x.std(-1, keepdim = True)\n",
    "        return self.a_2 * (x - mean) / (std + self.eps) + self.b_2\n",
    "    \n",
    "    \"\"\"\n",
    "    Output of each sublayer is Layernorm(x + sublayer(x)) where sublaer x is the function\n",
    "    implemented by the sublayer itself\n",
    "    \"\"\""
   ]
  },
  {
   "cell_type": "markdown",
   "id": "julian-eugene",
   "metadata": {},
   "source": [
    "## SublayerConnection"
   ]
  },
  {
   "cell_type": "code",
   "execution_count": 7,
   "id": "vital-continent",
   "metadata": {},
   "outputs": [],
   "source": [
    "class SublayerConnection(nn.Module):\n",
    "    \"\"\"\n",
    "    A residual connection followed by a layer norm\n",
    "    \"\"\"\n",
    "    def __init__(self, size, dropout):\n",
    "        # dropout = the probability of an element to be zeroed\n",
    "        super(SublayerConnection, self).__init__()\n",
    "        self.norm = LayerNorm(size)\n",
    "        self.dropout = nn.Dropout(dropout)\n",
    "        \n",
    "    def forward(self, x, sublayer):\n",
    "        \"\"\"\n",
    "        Apply residual connection to any sublayer with the same size\n",
    "        \"\"\"\n",
    "        return x + self.dropout(sublayer(self.norm(x)))"
   ]
  },
  {
   "cell_type": "markdown",
   "id": "tribal-michigan",
   "metadata": {},
   "source": [
    "## EncoderLayer"
   ]
  },
  {
   "cell_type": "code",
   "execution_count": 10,
   "id": "angry-indiana",
   "metadata": {},
   "outputs": [],
   "source": [
    "\"\"\"\n",
    "Each layer has two sub layers. First is the multi-head self attention mechanism, and the second\n",
    "is a simple position wise, fully connected feed-forward network\n",
    "\"\"\"\n",
    "class EncoderLayer(nn.Module):\n",
    "    \"\"\"\n",
    "    Encoder is made for self -attn and feed forward\n",
    "    \"\"\"\n",
    "    def __init__(self, size, self_attn, feed_forward, dropout):\n",
    "        super(EncoderLayer, self).__init__()\n",
    "        self.self_attn = self_attn\n",
    "        self.feed_forward = feed_forward\n",
    "        self.sublayer = clones(SublayerConnection(size, dropout), 2)\n",
    "        self.size = size\n",
    "    \n",
    "    def forward(self, x, mask):\n",
    "        x = self.sublayer[0](x, lambda x: self.self_attn(x, x, x, mask)) \n",
    "        \"\"\"\n",
    "        lambda is basically creating a very short function\n",
    "        ex:\n",
    "        raise_to_power = lambda x, y: x ** y\n",
    "        raise_to_power(2, 3)\n",
    "        8\n",
    "        \"\"\"\n",
    "        return self.sublayer[1](x, self.feed_forward)"
   ]
  },
  {
   "cell_type": "markdown",
   "id": "charitable-saudi",
   "metadata": {},
   "source": [
    "## Decoder"
   ]
  },
  {
   "cell_type": "code",
   "execution_count": null,
   "id": "aging-tribune",
   "metadata": {},
   "outputs": [],
   "source": [
    "'''\n",
    "The decoder is also a stack of N = 6 layers\n",
    "'''\n",
    "class Decoder(nn.Module):\n",
    "    # Generic N layer decoder with masking\n",
    "    def __init__(self, layer, N):\n",
    "        super(Decoder, self).__init__()\n",
    "        self.layers = clones(layer, N)\n",
    "        self.norm = LayerNorm(layer.size)\n",
    "    \n",
    "    def forward(self, x, memory, src_mask, tgt_mask):\n",
    "        for layer in self.layers:\n",
    "            x = layer(x, memory src_mask, tgt_mask)\n",
    "        return self.norm(x)"
   ]
  }
 ],
 "metadata": {
  "kernelspec": {
   "display_name": "Python 3",
   "language": "python",
   "name": "python3"
  },
  "language_info": {
   "codemirror_mode": {
    "name": "ipython",
    "version": 3
   },
   "file_extension": ".py",
   "mimetype": "text/x-python",
   "name": "python",
   "nbconvert_exporter": "python",
   "pygments_lexer": "ipython3",
   "version": "3.8.6"
  }
 },
 "nbformat": 4,
 "nbformat_minor": 5
}

{
 "cells": [
  {
   "cell_type": "markdown",
   "id": "continental-corporation",
   "metadata": {},
   "source": [
    "### Importing necessary packages"
   ]
  },
  {
   "cell_type": "code",
   "execution_count": 6,
   "id": "hidden-stand",
   "metadata": {},
   "outputs": [
    {
     "ename": "SyntaxError",
     "evalue": "invalid syntax (<ipython-input-6-1d7e0c65ec3f>, line 3)",
     "output_type": "error",
     "traceback": [
      "\u001b[0;36m  File \u001b[0;32m\"<ipython-input-6-1d7e0c65ec3f>\"\u001b[0;36m, line \u001b[0;32m3\u001b[0m\n\u001b[0;31m    import torch.nn as nnWe will use torch text for batching. This is discussed in more detail below. Here we create batches in a torchtext function that ensures our batch size padded to the maximum batchsize does not surpass a threshold (25000 if we have 8 gpus).\u001b[0m\n\u001b[0m                            ^\u001b[0m\n\u001b[0;31mSyntaxError\u001b[0m\u001b[0;31m:\u001b[0m invalid syntax\n"
     ]
    }
   ],
   "source": [
    "import numpy as np\n",
    "import torch\n",
    "import torch.nn as nn\n",
    "import torch.nn.functional as F\n",
    "import math, copy, time\n",
    "from torch.autograd import Variable\n",
    "import matplotlib.pyplot as plt\n",
    "import seaborn\n",
    "seaborn.set_context(context=\"talk\")\n",
    "%matplotlib inline"
   ]
  },
  {
   "cell_type": "markdown",
   "id": "certified-fleet",
   "metadata": {},
   "source": [
    "# Model Architecture"
   ]
  },
  {
   "cell_type": "markdown",
   "id": "genetic-wilson",
   "metadata": {},
   "source": [
    "## EncoderDecoder"
   ]
  },
  {
   "cell_type": "code",
   "execution_count": null,
   "id": "voluntary-joseph",
   "metadata": {},
   "outputs": [],
   "source": [
    "\"\"\"\n",
    "This is a classic encoder decoder architecture\n",
    "\"\"\"\n",
    "class EncoderDecoder(nn.Module):\n",
    "    \"\"\"\n",
    "    This class inherits from the nn.module the base class for all neural network modules.\n",
    "    \"\"\"\n",
    "    def __init__(self, encoder, decoder, src_embed, tgt_embed, generator):\n",
    "        super(EncoderDecoder, self).__init__()\n",
    "        self.encoder = encoder\n",
    "        self.decoder = decoder\n",
    "        self.src_embed = src_embed\n",
    "        self.generator = generator\n",
    "    \n",
    "    def forward(self, src, tgt, src_mask, tgt_mask):\n",
    "        \"\"\"\n",
    "        Take in and process masked src and target sequences\n",
    "        \"\"\"\n",
    "        return self.decode(self.encode(src, src_mask), src_mask, tgt, tgt_mask)\n",
    "    \n",
    "    def encode(self, src, src_mask):\n",
    "        return self.encoder(self.src_embed(src),src_mask)\n",
    "    \n",
    "    def decode(self, memory, src_mask, tgt, tgt_mask):\n",
    "        return self.decoder(self.tgt_embed(tgt), memory, src_mask, tgt_mask)"
   ]
  },
  {
   "cell_type": "markdown",
   "id": "ongoing-monitor",
   "metadata": {},
   "source": [
    "## Generator"
   ]
  },
  {
   "cell_type": "code",
   "execution_count": null,
   "id": "unknown-survivor",
   "metadata": {},
   "outputs": [],
   "source": [
    "class Generator(nn.Module):\n",
    "    \"\"\"\n",
    "    Define standard linear + softmax generation steps\n",
    "    \"\"\"\n",
    "    def __init__(self, d_model, vocab):\n",
    "        super(Generator, self).__init__()\n",
    "        self.proj = nn.Linear(d_model, vocab)\n",
    "    def forward(self, x): # x is (d_model, vocab)\n",
    "        return F.log_softmax(self.proj(x), dim=-1)"
   ]
  },
  {
   "cell_type": "markdown",
   "id": "isolated-litigation",
   "metadata": {},
   "source": [
    "## Encoder"
   ]
  },
  {
   "cell_type": "code",
   "execution_count": null,
   "id": "monetary-allocation",
   "metadata": {},
   "outputs": [],
   "source": [
    "def clones(module, N):\n",
    "    \"\"\"\n",
    "    Produce N identical layers\n",
    "    \"\"\"\n",
    "    return nn.ModuleList([copy.deepcopy(module) for _ in range(N)])\n",
    "class Encoder(nn.Module):\n",
    "    \"\"\"\n",
    "    Core encoder is a stack of N layers\n",
    "    \"\"\"\n",
    "    def __init__(self, layer, N):\n",
    "        super(Encoder,self).__init__()\n",
    "        self.layers = clones(layer, N)\n",
    "        self.norm = LayerNorm(layer.size) # We will build the class layernorm\n",
    "    \n",
    "    def forward(self, x, mask):\n",
    "        \"\"\"\n",
    "        Pass the input (and mask) through each layer in turn\n",
    "        \"\"\"\n",
    "        for layer in self.layers:\n",
    "            x = layer(x, mask)\n",
    "        return self.norm(x)"
   ]
  },
  {
   "cell_type": "markdown",
   "id": "collect-voice",
   "metadata": {},
   "source": [
    "## LayerNorm"
   ]
  },
  {
   "cell_type": "code",
   "execution_count": null,
   "id": "private-blackberry",
   "metadata": {},
   "outputs": [],
   "source": [
    "class LayerNorm(nn.Module):\n",
    "    \"\"\"\n",
    "    Employ a residual connection around each of the two sub-layers, \n",
    "    followed by layer normalization.\n",
    "    \n",
    "    Deeper neural networks are more difficult to train. \n",
    "    We present a residual learning framework to ease the training of networks \n",
    "    that are substantially deeper than those used previously. \n",
    "    We explicitly reformulate the layers as learning residual functions \n",
    "    with reference to the layer inputs, instead of learning unreferenced functions. \n",
    "    We provide comprehensive empirical evidence showing that these residual networks \n",
    "    are easier to optimize, and can gain accuracy from considerably increased depth. \n",
    "    On the ImageNet dataset we evaluate residual nets with a depth of up to \n",
    "    152 layers---8x deeper than VGG nets but still having lower complexity. \n",
    "    An ensemble of these residual nets achieves 3.57% error on the ImageNet test set. \n",
    "    This result won the 1st place on the ILSVRC 2015 classification task. \n",
    "    We also present analysis on CIFAR-10 with 100 and 1000 layers.\n",
    "    The depth of representations is of central importance for many visual recognition tasks. \n",
    "    Solely due to our extremely deep representations, we obtain a 28% relative improvement \n",
    "    on the COCO object detection dataset. \n",
    "    Deep residual nets are foundations of our submissions to ILSVRC & COCO 2015 competitions, \n",
    "    where we also won the 1st places on the tasks of ImageNet detection, \n",
    "    ImageNet localization, COCO detection, and COCO segmentation.\n",
    "    \n",
    "    Construct a layernorm module:\n",
    "    \"\"\"\n",
    "    def __init__(self, features, eps=1e-6): # features = layer.size\n",
    "        super(LayerNorm, self).__init__()\n",
    "        self.a_2 = nn.Parameter(torch.ones(features))\n",
    "        self.b_2 = nn.Parameter(torch.zeros(features))\n",
    "        self.eps = eps\n",
    "    def forward(self, x):\n",
    "        mean = x.mean(-1, keepdim = True)\n",
    "        std = x.std(-1, keepdim = True)\n",
    "        return self.a_2 * (x - mean) / (std + self.eps) + self.b_2\n",
    "    \n",
    "    \"\"\"\n",
    "    Output of each sublayer is Layernorm(x + sublayer(x)) where sublaer x is the function\n",
    "    implemented by the sublayer itself\n",
    "    \"\"\""
   ]
  },
  {
   "cell_type": "markdown",
   "id": "julian-eugene",
   "metadata": {},
   "source": [
    "## SublayerConnection"
   ]
  },
  {
   "cell_type": "code",
   "execution_count": null,
   "id": "outdoor-reality",
   "metadata": {},
   "outputs": [],
   "source": [
    "class SublayerConnection(nn.Module):\n",
    "    \"\"\"\n",
    "    A residual connection followed by a layer norm\n",
    "    \"\"\"\n",
    "    def __init__(self, size, dropout):\n",
    "        # dropout = the probability of an element to be zeroed\n",
    "        super(SublayerConnection, self).__init__()\n",
    "        self.norm = LayerNorm(size)\n",
    "        self.dropout = nn.Dropout(dropout)\n",
    "        \n",
    "    def forward(self, x, sublayer):\n",
    "        \"\"\"\n",
    "        Apply residual connection to any sublayer with the same size\n",
    "        \"\"\"\n",
    "        return x + self.dropout(sublayer(self.norm(x)))"
   ]
  },
  {
   "cell_type": "markdown",
   "id": "tropical-average",
   "metadata": {},
   "source": [
    "## EncoderLayer"
   ]
  },
  {
   "cell_type": "code",
   "execution_count": null,
   "id": "proprietary-simulation",
   "metadata": {},
   "outputs": [],
   "source": [
    "\"\"\"\n",
    "Each layer has two sub layers. First is the multi-head self attention mechanism, and the second\n",
    "is a simple position wise, fully connected feed-forward network\n",
    "\"\"\"\n",
    "class EncoderLayer(nn.Module):\n",
    "    \"\"\"\n",
    "    Encoder is made for self -attn and feed forward\n",
    "    \"\"\"\n",
    "    def __init__(self, size, self_attn, feed_forward, dropout):\n",
    "        super(EncoderLayer, self).__init__()\n",
    "        self.self_attn = self_attn\n",
    "        self.feed_forward = feed_forward\n",
    "        self.sublayer = clones(SublayerConnection(size, dropout), 2)\n",
    "        self.size = size\n",
    "    \n",
    "    def forward(self, x, mask):\n",
    "        x = self.sublayer[0](x, lambda x: self.self_attn(x, x, x, mask)) \n",
    "        \"\"\"\n",
    "        lambda is basically creating a very short function\n",
    "        ex:\n",
    "        raise_to_power = lambda x, y: x ** y\n",
    "        raise_to_power(2, 3)\n",
    "        8\n",
    "        \"\"\"\n",
    "        return self.sublayer[1](x, self.feed_forward)"
   ]
  },
  {
   "cell_type": "markdown",
   "id": "judicial-ancient",
   "metadata": {},
   "source": [
    "## Decoder"
   ]
  },
  {
   "cell_type": "code",
   "execution_count": null,
   "id": "daily-toolbox",
   "metadata": {},
   "outputs": [],
   "source": [
    "'''\n",
    "The decoder is also a stack of N = 6 layers\n",
    "'''\n",
    "class Decoder(nn.Module):\n",
    "    # Generic N layer decoder with masking\n",
    "    def __init__(self, layer, N):\n",
    "        super(Decoder, self).__init__()\n",
    "        self.layers = clones(layer, N)\n",
    "        self.norm = LayerNorm(layer.size)\n",
    "    \n",
    "    def forward(self, x, memory, src_mask, tgt_mask):\n",
    "        for layer in self.layers:\n",
    "            x = layer(x, memory, src_mask, tgt_mask)\n",
    "        return self.norm(x)"
   ]
  },
  {
   "cell_type": "markdown",
   "id": "monetary-carolina",
   "metadata": {},
   "source": [
    "## DecoderLayer "
   ]
  },
  {
   "cell_type": "code",
   "execution_count": null,
   "id": "instrumental-robert",
   "metadata": {},
   "outputs": [],
   "source": [
    "\"\"\"\n",
    "In addition to the two sublayers in each encoder layer, the decoder inserts a third sublayer\n",
    "which performs multi head attention over the output of the encoder stack.\n",
    "Similar to the encoder, residual connections are employed around each of the sub-layers,\n",
    "followed by layer normalization.\n",
    "\"\"\"\n",
    "class DecoderLayer(nn.Module):\n",
    "    \"Decoder is made of self-attn, src-attn, and feed forward\"\n",
    "    def __init__(self, size, self_attn, src_attn, feed_forward, dropout):\n",
    "        super(DecoderLayer, self).__init__()\n",
    "        self.size = size\n",
    "        self.self_attn = self_attn\n",
    "        self.feed_forward = feed_forward\n",
    "        self.sublayer = clones(SublayerConnection(size, dropout), 3)\n",
    "        \n",
    "    def forward(self, x, memory, src_mask, tgt_mask):\n",
    "        m = memory\n",
    "        x = self.sublayer[0](x, lambda x: self.self_attn(x, x, x, tgt_mask))\n",
    "        x = self.sublayer[1](x, lambda x: self.src_attn(x, m, m, src_mask))\n",
    "        return self.sublayer[2](x, self.feed_forward)"
   ]
  },
  {
   "cell_type": "code",
   "execution_count": null,
   "id": "selected-lewis",
   "metadata": {},
   "outputs": [],
   "source": [
    "'''\n",
    "The self attention sublayer is modified in the decoder stack \n",
    "to prevent porsitions from attending subsequent positions. This masking\n",
    "combined with the fact that the output embeddings are offset by one position, ensures\n",
    "that the prediction for position i, depends only on the known output at position\n",
    "less than i'''\n",
    "\n",
    "def subsequent_mask(size):\n",
    "    \"Mask out subsequent positions\"\n",
    "    attn_shape = (1, size, size)\n",
    "    subsequent_mask = np.triu(np.ones(attn_shape), k=1).astype('uint8')\n",
    "    return torch.from_numpy(subsequent_mask) == 0"
   ]
  },
  {
   "cell_type": "code",
   "execution_count": null,
   "id": "fifty-formula",
   "metadata": {},
   "outputs": [],
   "source": [
    "plt.figure(figsize=(5,5))\n",
    "plt.imshow(subsequent_mask(20)[0])\n",
    "None"
   ]
  },
  {
   "cell_type": "markdown",
   "id": "heard-debate",
   "metadata": {},
   "source": [
    "## Attention"
   ]
  },
  {
   "cell_type": "code",
   "execution_count": null,
   "id": "wooden-coating",
   "metadata": {},
   "outputs": [],
   "source": [
    "\"\"\"\n",
    "An attention function can be described as mapping \n",
    "a query and a set of key-value pairs to an output.\n",
    "where the query, keys, values, and output are all vectors\n",
    "\"\"\"\n",
    "\n",
    "def attention(query, key, value, mask=None, dropout=None):\n",
    "    \"Compute scaled dot product attention\"\n",
    "    d_k = query.size(-1)\n",
    "    scores = torch.matmul(query, key.transpose(-2, -1))/math.sqrt(d_k)\n",
    "    if mask is not None:\n",
    "        score = scores.masked_fill(mask == 0, -1e9)\n",
    "    p_attn = F.softmax(scores, dim = -1)\n",
    "    if dropout is not None:\n",
    "        p_attn = dropout(p_attn)\n",
    "    return torch.matmul(p_attn, value), p_attn"
   ]
  },
  {
   "cell_type": "markdown",
   "id": "innovative-allowance",
   "metadata": {},
   "source": [
    "## MultiHeadedAttention "
   ]
  },
  {
   "cell_type": "code",
   "execution_count": null,
   "id": "interstate-watershed",
   "metadata": {},
   "outputs": [],
   "source": [
    "class MultiHeadedAttention(nn.Module):\n",
    "    def __init__(self, h, d_model, dropout=0.1):\n",
    "        \"\"\"\n",
    "        Take in model size and number of heads\n",
    "        \"\"\"\n",
    "        super(MultiHeadedAttention, self).__init__()\n",
    "        assert d_model % h == 0\n",
    "        # we assume d_v amways equals to d_k\n",
    "        self.d_k = d_model // h\n",
    "        self.h = h\n",
    "        self.linears = clones(nn.Linear(d_model, d_model), 4)\n",
    "        self.attn = None\n",
    "        self.dropout = nn.Dropout(p = dropout)\n",
    "    \n",
    "    def forward(self, query, key, value, mask=None):\n",
    "        if mask is not None:\n",
    "            mask = mask.unsqueeze(1)\n",
    "        nbatches = query.size(0)\n",
    "        # 1. Do all the linear projections in batch from d_model => h x d_k\n",
    "        query, key, value = \\\n",
    "            [l(x).view(nbatches, -1, self.h, self.d_k).transpose(1,2)\n",
    "             for l, x in zip(self.linears, (query, key, value))]\n",
    "        # 2) Apply attention on all the projected vectors in batch. \n",
    "        x, self.attn = attention(query, key, value, mask=mask, dropout=self.dropout)\n",
    "        # 3) \"Concat\" using a view and apply a final linear.\n",
    "        x = x.transpose(1, 2).contiguous().view(nbatches, -1, self.h * self.d_k)\n",
    "        return self.linears[-1](x)"
   ]
  },
  {
   "cell_type": "markdown",
   "id": "serial-upper",
   "metadata": {},
   "source": [
    "## Position-wise Feed-Forward Networks"
   ]
  },
  {
   "cell_type": "code",
   "execution_count": null,
   "id": "alleged-mathematics",
   "metadata": {},
   "outputs": [],
   "source": [
    "\"\"\"\n",
    "each of the layers in our encoder and decoder contains a fully connected feed-forward\n",
    "network. This consists of two linear transformations with a RelU activation in between.\n",
    "\"\"\"\n",
    "class PositionwiseFeedForward(nn.Module):\n",
    "    # d_model = 512, d_ff = 2048\n",
    "    def __init__(self, d_model, d_ff, dropout=0.1):\n",
    "        super(PositionwiseFeedForward, self).__init__()\n",
    "        self.w_1 = nn.Linear(d_model, d_ff)\n",
    "        self.w_2 = nn.Linear(d_ff, d_model)\n",
    "        self.dropout = nn.Dropout(dropout)\n",
    "    def forward(self, x):\n",
    "        return self.w_2(self.dropout(F.relu(self.w_1(x))))"
   ]
  },
  {
   "cell_type": "markdown",
   "id": "toxic-spectrum",
   "metadata": {},
   "source": [
    "## Embeddings "
   ]
  },
  {
   "cell_type": "code",
   "execution_count": null,
   "id": "realistic-concentrate",
   "metadata": {},
   "outputs": [],
   "source": [
    "\"\"\"\n",
    "Using learned embeddings to convert the input and output tokens into vectors of\n",
    "dimension d_model\n",
    "\"\"\"\n",
    "class Embeddings(nn.Module):\n",
    "    def __init__(self, d_model, vocab):\n",
    "        super(Embeddings, self).__init__()\n",
    "        self.lut = nn.Embedding(vocab, d_model)\n",
    "        self.d_model = d_model\n",
    "    def forward(self,x):\n",
    "        return self.lut(x) * math.sqrt(self.d_model)\n",
    "    "
   ]
  },
  {
   "cell_type": "markdown",
   "id": "critical-appendix",
   "metadata": {},
   "source": [
    "## Positional Encoding"
   ]
  },
  {
   "cell_type": "code",
   "execution_count": null,
   "id": "dense-opportunity",
   "metadata": {},
   "outputs": [],
   "source": [
    "\"\"\"\n",
    "Because the model has no convolution and no recurence, there is the need to\n",
    "input some positional information about the relative or absolute position of the tokens in the\n",
    "sequence\n",
    "\"\"\"\n",
    "class PositionalEncoding(nn.Module):\n",
    "    def __init__(self, d_model, dropout, max_len = 5000):\n",
    "        super(PositionalEncoding, self).__init__()\n",
    "        self.dropout = nn.Dropout(p=dropout)\n",
    "        \n",
    "        # Compute the positional encodings once in log space.\n",
    "        pe = torch.zeros(max_len, d_model)\n",
    "        position = torch.arange(0, max_len).unsqueeze(1)\n",
    "        div_term = torch.exp(torch.arange(0, d_model, 2) * -(math.log(10000.0) / d_model))\n",
    "        pe[:, 0::2] = torch.sin(position * div_term)\n",
    "        pe[:, 1::2] = torch.cos(position * div_term)\n",
    "        pe = pe.unsqueeze(0)\n",
    "        self.register_buffer('pe', pe)\n",
    "    def forward(self, x):\n",
    "        x = x + Variable(self.pe[:, :x.size(1)],\n",
    "                        requires_grad = False)\n",
    "        return self.dropout(x)"
   ]
  },
  {
   "cell_type": "code",
   "execution_count": null,
   "id": "naval-macro",
   "metadata": {},
   "outputs": [],
   "source": [
    "# Exemple\n",
    "plt.figure(figsize=(15, 5))\n",
    "pe = PositionalEncoding(20, 0)\n",
    "y = pe.forward(Variable(torch.zeros(1, 100, 20)))\n",
    "plt.plot(np.arange(100), y[0, :, 4:8].data.numpy())\n",
    "plt.legend([\"dim %d\"%p for p in [4,5,6,7]])\n",
    "None"
   ]
  },
  {
   "cell_type": "markdown",
   "id": "fossil-operator",
   "metadata": {},
   "source": [
    "## Full Model "
   ]
  },
  {
   "cell_type": "code",
   "execution_count": null,
   "id": "corporate-magnitude",
   "metadata": {},
   "outputs": [],
   "source": [
    "def make_model(src_vocab, tgt_vocab, N=6, d_model = 512, d_ff = 2048, h = 8, dropout = 0.1):\n",
    "    \"\"\"\n",
    "    Construct a model from the hyper parameters\n",
    "    \"\"\"\n",
    "    c = copy.deepcopy\n",
    "    attn = MultiHeadedAttention(h, d_model)\n",
    "    ff = PositionwiseFeedForward(d_model, d_ff, dropout)\n",
    "    position = PositionalEncoding(d_model, dropout)\n",
    "    model = EncoderDecoder(\n",
    "    Encoder(EncoderLayer(d_model, c(attn), c(ff), dropout), N),\n",
    "    Decoder(DecoderLayer(d_model, c(attn), c(attn), c(ff), dropout), N),\n",
    "    nn.Sequential(Embeddings(d_model, src_vocab), c(position)),\n",
    "    nn.Sequential(Embeddings(d_model, tgt_vocab), c(position)),\n",
    "    Generator(d_model, tgt_vocab))\n",
    "    \n",
    "    for p in model.parameters():\n",
    "        if p.dim() > 1:\n",
    "            nn.init.xavier_uniform(p)\n",
    "    return model\n",
    "    "
   ]
  },
  {
   "cell_type": "code",
   "execution_count": null,
   "id": "apparent-building",
   "metadata": {},
   "outputs": [],
   "source": [
    "tmp_model = make_model(10,10,2)\n",
    "None"
   ]
  },
  {
   "cell_type": "code",
   "execution_count": null,
   "id": "focused-survey",
   "metadata": {},
   "outputs": [],
   "source": [
    "tmp_model"
   ]
  },
  {
   "cell_type": "markdown",
   "id": "several-barrel",
   "metadata": {},
   "source": [
    "# Training"
   ]
  },
  {
   "cell_type": "markdown",
   "id": "short-familiar",
   "metadata": {},
   "source": [
    "## Batches and Masking "
   ]
  },
  {
   "cell_type": "code",
   "execution_count": null,
   "id": "vocational-aviation",
   "metadata": {},
   "outputs": [],
   "source": [
    "\"\"\"\n",
    "How to train your model\n",
    "\"\"\"\n",
    "class Batch:\n",
    "    \"\"\"\n",
    "    Object for holding a batch of data with mask during training\n",
    "    \"\"\"\n",
    "    def __init__(self, src, trg=None, pad=0):\n",
    "        self.src = src\n",
    "        self.src_mask = (src != pad).unsqueeze(-2)\n",
    "        if trg is not None:\n",
    "            self.trg = trg[:, :-1]\n",
    "            self.trg_y = trg[:, 1:]\n",
    "            self.trg_mask = self.make_std_mask(self.trg, pad)\n",
    "            self.ntokens = (self.trg_y != pad).data.sum()\n",
    "    @staticmethod\n",
    "    def make_std_mask(tgt, pad):\n",
    "        \"\"\"\n",
    "        Create a mask to hide padding and future words\n",
    "        \"\"\"\n",
    "        tgt_mask = (tgt != pad).unsqueeze(-2)\n",
    "        tgt_mask = tgt_mask & Variableiable(subsequent_mask(tgt.size(-1)).type_as(tgt_mask.data))\n",
    "        return tgt_mask"
   ]
  },
  {
   "cell_type": "markdown",
   "id": "changing-sherman",
   "metadata": {},
   "source": [
    "## Training Loop "
   ]
  },
  {
   "cell_type": "code",
   "execution_count": null,
   "id": "impressed-mercy",
   "metadata": {},
   "outputs": [],
   "source": [
    "\"\"\"\n",
    "Generic training and scoring function to keep track of loss.\n",
    "We pass in a generic loss compute function that also handles parameter updates\n",
    "\"\"\"\n",
    "def run_epoch(data_iter, model, loss_compute):\n",
    "    \" Standard Training and Logging Function\"\n",
    "    start = time.time()\n",
    "    total_tokens = 0\n",
    "    total_loss = 0\n",
    "    tokens = 0\n",
    "    for i, batch in enumerate(data_iter):\n",
    "        out = model.forward(batch.src, batch.trg, batch.src_mask, batch.trg_maks)\n",
    "        loss = loss_compute(out, batch.trg_y, batch.ntokens)\n",
    "        tokens += batch.ntokens\n",
    "        if i % 50 == 1:\n",
    "            elapsed = time.time() - start\n",
    "            print(\"Epoch Step: %d Loss: %f Tokens per Sec: %f\"%\n",
    "                  (i, loss / batch.ntokens, tokens / elapsed))\n",
    "            start = time.time()\n",
    "            tokens = 0\n",
    "    return total_loss / total_tokens"
   ]
  },
  {
   "cell_type": "markdown",
   "id": "south-private",
   "metadata": {},
   "source": [
    "## Training Data and Batching"
   ]
  },
  {
   "cell_type": "markdown",
   "id": "bibliographic-attribute",
   "metadata": {},
   "source": [
    "Trained on the standard WMT 2014 English-German dataset consisting of about 4.5 million sentence pairs. Sentences were encoded using byte-pair encoding, which has a shared source-target vocabulary of about 37000 tokens. For English- French, we used the significantly larger WMT 2014 English-French dataset consisting of 36M sentences and split tokens into a 32000 word-piece vocabulary.\n",
    "\n",
    "Sentence pairs were batched together by approximate sequence length. Each training batch contained a set of sentence pairs containing approximately 25000 source tokens and 25000 target tokens.\n",
    "\n",
    "We will use torch text for batching. This is discussed in more detail below. Here we create batches in a torchtext function that ensures our batch size padded to the maximum batchsize does not surpass a threshold (25000 if we have 8 gpus)."
   ]
  },
  {
   "cell_type": "code",
   "execution_count": null,
   "id": "accepted-criminal",
   "metadata": {},
   "outputs": [],
   "source": [
    "global max_src_in_batch, max_tgt_in_batch\n",
    "def batch_size_fn(new, count, sofar):\n",
    "    \"Keep augmenting batch and calculate total number of tokens + padding.\"\n",
    "    if count == 1:\n",
    "        max_src_in_batch = 0\n",
    "        max_tgt_in_batch = 0\n",
    "    max_src_in_batch = max(max_src_in_batch, len(new.src))\n",
    "    max_tgt_in_batch = max(max_tgt_in_batch, len(new.trg) + 2)\n",
    "    src_elements = count * max_src_in_batch\n",
    "    tgt_elements = count * max_tgt_in_batch\n",
    "    return max(src_elements, tgt_elements)"
   ]
  },
  {
   "cell_type": "markdown",
   "id": "jewish-carroll",
   "metadata": {},
   "source": [
    "# Hardware and Schedule "
   ]
  },
  {
   "cell_type": "markdown",
   "id": "eleven-socket",
   "metadata": {},
   "source": [
    "## Optimizer"
   ]
  },
  {
   "cell_type": "markdown",
   "id": "arctic-abuse",
   "metadata": {},
   "source": [
    "The adam optimizer was used, with B_1 = 0.9, B_2 = 0.98 and eps = 10**-9, also with a variation of the learning rate over the course of training"
   ]
  },
  {
   "cell_type": "code",
   "execution_count": null,
   "id": "consecutive-korean",
   "metadata": {},
   "outputs": [],
   "source": [
    "class NoamOpt:\n",
    "    \"Optim wrapper that implements rate.\"\n",
    "    def __init__(self, model_size, factor, warmup, optimizer):\n",
    "        self.optimizer = optimizer\n",
    "        self._step = 0\n",
    "        self.warmup = warmup\n",
    "        self.factor = factor\n",
    "        self.model_size = model_size\n",
    "        self._rate = 0\n",
    "    def step(self):\n",
    "        \"Update parameters and rate\"\n",
    "        self._step += 1\n",
    "        rate = self.rate()\n",
    "        for p in self.optimizer.param_groups:\n",
    "            p['lr'] = rate\n",
    "        self._rate = rate\n",
    "        self.optimizer.step()\n",
    "    def rate(self, step = None):\n",
    "        \"Implement lrate above\"\n",
    "        if step is None:\n",
    "            step = self._step\n",
    "        return self.factor * \\\n",
    "            (self.model_size ** (-0.5) * min(step ** (-0.5), step * self.warmup ** (-1.5)))\n",
    "    def get_std_opt(model):\n",
    "        return NoamOpt(model.src_embed[0].d_model, 2, 4000,\n",
    "                      torch.optim.Adam(model.parameters(), lr = 0, betas = (0.9, 0.95), eps = 1e-9))\n",
    "    "
   ]
  },
  {
   "cell_type": "markdown",
   "id": "located-joshua",
   "metadata": {},
   "source": [
    "### Examples"
   ]
  },
  {
   "cell_type": "code",
   "execution_count": 7,
   "id": "regional-lawrence",
   "metadata": {},
   "outputs": [
    {
     "ename": "NameError",
     "evalue": "name 'plt' is not defined",
     "output_type": "error",
     "traceback": [
      "\u001b[0;31m---------------------------------------------------------------------------\u001b[0m",
      "\u001b[0;31mNameError\u001b[0m                                 Traceback (most recent call last)",
      "\u001b[0;32m<ipython-input-7-0d766dec6f0f>\u001b[0m in \u001b[0;36m<module>\u001b[0;34m\u001b[0m\n\u001b[1;32m      2\u001b[0m         \u001b[0mNoamOpt\u001b[0m\u001b[0;34m(\u001b[0m\u001b[0;36m512\u001b[0m\u001b[0;34m,\u001b[0m \u001b[0;36m1\u001b[0m\u001b[0;34m,\u001b[0m \u001b[0;36m8000\u001b[0m\u001b[0;34m,\u001b[0m \u001b[0;32mNone\u001b[0m\u001b[0;34m)\u001b[0m\u001b[0;34m,\u001b[0m\u001b[0;34m\u001b[0m\u001b[0;34m\u001b[0m\u001b[0m\n\u001b[1;32m      3\u001b[0m         NoamOpt(256, 1, 4000, None)]\n\u001b[0;32m----> 4\u001b[0;31m \u001b[0mplt\u001b[0m\u001b[0;34m.\u001b[0m\u001b[0mplot\u001b[0m\u001b[0;34m(\u001b[0m\u001b[0mnp\u001b[0m\u001b[0;34m.\u001b[0m\u001b[0marange\u001b[0m\u001b[0;34m(\u001b[0m\u001b[0;36m1\u001b[0m\u001b[0;34m,\u001b[0m \u001b[0;36m20000\u001b[0m\u001b[0;34m)\u001b[0m\u001b[0;34m,\u001b[0m \u001b[0;34m[\u001b[0m\u001b[0;34m[\u001b[0m\u001b[0mopt\u001b[0m\u001b[0;34m.\u001b[0m\u001b[0mrate\u001b[0m\u001b[0;34m(\u001b[0m\u001b[0mi\u001b[0m\u001b[0;34m)\u001b[0m \u001b[0;32mfor\u001b[0m \u001b[0mopt\u001b[0m \u001b[0;32min\u001b[0m \u001b[0mopts\u001b[0m\u001b[0;34m]\u001b[0m \u001b[0;32mfor\u001b[0m \u001b[0mi\u001b[0m \u001b[0;32min\u001b[0m \u001b[0mrange\u001b[0m\u001b[0;34m(\u001b[0m\u001b[0;36m1\u001b[0m\u001b[0;34m,\u001b[0m \u001b[0;36m20000\u001b[0m\u001b[0;34m)\u001b[0m\u001b[0;34m]\u001b[0m\u001b[0;34m)\u001b[0m\u001b[0;34m\u001b[0m\u001b[0;34m\u001b[0m\u001b[0m\n\u001b[0m\u001b[1;32m      5\u001b[0m \u001b[0mplt\u001b[0m\u001b[0;34m.\u001b[0m\u001b[0mlegend\u001b[0m\u001b[0;34m(\u001b[0m\u001b[0;34m[\u001b[0m\u001b[0;34m\"512:4000\"\u001b[0m\u001b[0;34m,\u001b[0m \u001b[0;34m\"512:8000\"\u001b[0m\u001b[0;34m,\u001b[0m \u001b[0;34m\"256:4000\"\u001b[0m\u001b[0;34m]\u001b[0m\u001b[0;34m)\u001b[0m\u001b[0;34m\u001b[0m\u001b[0;34m\u001b[0m\u001b[0m\n",
      "\u001b[0;31mNameError\u001b[0m: name 'plt' is not defined"
     ]
    }
   ],
   "source": [
    "opts = [NoamOpt(512, 1, 4000, None), \n",
    "        NoamOpt(512, 1, 8000, None),\n",
    "        NoamOpt(256, 1, 4000, None)]\n",
    "plt.plot(np.arange(1, 20000), [[opt.rate(i) for opt in opts] for i in range(1, 20000)])\n",
    "plt.legend([\"512:4000\", \"512:8000\", \"256:4000\"])"
   ]
  },
  {
   "cell_type": "code",
   "execution_count": null,
   "id": "decreased-insider",
   "metadata": {},
   "outputs": [],
   "source": []
  }
 ],
 "metadata": {
  "kernelspec": {
   "display_name": "Python 3",
   "language": "python",
   "name": "python3"
  },
  "language_info": {
   "codemirror_mode": {
    "name": "ipython",
    "version": 3
   },
   "file_extension": ".py",
   "mimetype": "text/x-python",
   "name": "python",
   "nbconvert_exporter": "python",
   "pygments_lexer": "ipython3",
   "version": "3.8.6"
  }
 },
 "nbformat": 4,
 "nbformat_minor": 5
}

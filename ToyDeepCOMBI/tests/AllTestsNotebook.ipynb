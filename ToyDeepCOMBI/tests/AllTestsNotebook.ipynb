{
 "cells": [
  {
   "cell_type": "markdown",
   "id": "05dcc261",
   "metadata": {},
   "source": [
    "# Data Generation\n",
    "\n"
   ]
  },
  {
   "cell_type": "markdown",
   "id": "d3c9fbde",
   "metadata": {},
   "source": [
    "## Import Libraries\n"
   ]
  },
  {
   "cell_type": "code",
   "execution_count": 3,
   "id": "f8e6142e",
   "metadata": {},
   "outputs": [],
   "source": [
    "\n",
    "import os\n",
    "import h5py\n",
    "import numpy as np\n",
    "from joblib import Parallel, delayed\n",
    "from scipy.stats import chi2\n",
    "from tensorflow.python.client import device_lib\n",
    "from tqdm import tqdm\n",
    "import random\n"
   ]
  },
  {
   "cell_type": "markdown",
   "id": "5eb366da",
   "metadata": {},
   "source": [
    "## Import from other files\n"
   ]
  },
  {
   "cell_type": "code",
   "execution_count": 6,
   "id": "aca38dc2",
   "metadata": {},
   "outputs": [
    {
     "ename": "SyntaxError",
     "evalue": "invalid syntax (<ipython-input-6-5a99a24fc4c8>, line 1)",
     "output_type": "error",
     "traceback": [
      "\u001b[0;36m  File \u001b[0;32m\"<ipython-input-6-5a99a24fc4c8>\"\u001b[0;36m, line \u001b[0;32m1\u001b[0m\n\u001b[0;31m    from ../helpers import generate_syn_genotypes, generate_syn_phenotypes\u001b[0m\n\u001b[0m           ^\u001b[0m\n\u001b[0;31mSyntaxError\u001b[0m\u001b[0;31m:\u001b[0m invalid syntax\n"
     ]
    }
   ],
   "source": [
    "from ../helpers import generate_syn_genotypes, generate_syn_phenotypes\n",
    "\n",
    "from parameters_complete import (\n",
    "    \n",
    "    SYN_DATA_DIR, noise_snps, inform_snps, n_total_snps, syn_n_subjects, ttbr as ttbr, disease_IDs,\n",
    "    FINAL_RESULTS_DIR, REAL_DATA_DIR)"
   ]
  },
  {
   "cell_type": "markdown",
   "id": "665fa2fe",
   "metadata": {},
   "source": [
    "## Class\n"
   ]
  },
  {
   "cell_type": "code",
   "execution_count": null,
   "id": "c4faccfc",
   "metadata": {},
   "outputs": [],
   "source": []
  }
 ],
 "metadata": {
  "kernelspec": {
   "display_name": "Python 3",
   "language": "python",
   "name": "python3"
  },
  "language_info": {
   "codemirror_mode": {
    "name": "ipython",
    "version": 3
   },
   "file_extension": ".py",
   "mimetype": "text/x-python",
   "name": "python",
   "nbconvert_exporter": "python",
   "pygments_lexer": "ipython3",
   "version": "3.8.6"
  },
  "toc": {
   "base_numbering": 1,
   "nav_menu": {},
   "number_sections": true,
   "sideBar": true,
   "skip_h1_title": false,
   "title_cell": "Table of Contents",
   "title_sidebar": "Contents",
   "toc_cell": false,
   "toc_position": {},
   "toc_section_display": true,
   "toc_window_display": false
  }
 },
 "nbformat": 4,
 "nbformat_minor": 5
}

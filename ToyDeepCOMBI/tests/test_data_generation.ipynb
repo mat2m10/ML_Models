{
 "cells": [
  {
   "cell_type": "markdown",
   "id": "05dcc261",
   "metadata": {},
   "source": [
    "# Data Generation\n",
    "\n"
   ]
  },
  {
   "cell_type": "markdown",
   "id": "7bf49973",
   "metadata": {},
   "source": [
    "## Import Libraries\n"
   ]
  },
  {
   "cell_type": "code",
   "execution_count": 3,
   "id": "f8e6142e",
   "metadata": {},
   "outputs": [],
   "source": [
    "\n",
    "import os\n",
    "import h5py\n",
    "import numpy as np\n",
    "from joblib import Parallel, delayed\n",
    "from scipy.stats import chi2\n",
    "from tensorflow.python.client import device_lib\n",
    "from tqdm import tqdm\n",
    "import random\n"
   ]
  },
  {
   "cell_type": "markdown",
   "id": "57faeaa7",
   "metadata": {},
   "source": [
    "## Import from other files\n"
   ]
  },
  {
   "cell_type": "code",
   "execution_count": 5,
   "id": "d035a68e",
   "metadata": {},
   "outputs": [
    {
     "ename": "ModuleNotFoundError",
     "evalue": "No module named 'helpers'",
     "output_type": "error",
     "traceback": [
      "\u001b[0;31m---------------------------------------------------------------------------\u001b[0m",
      "\u001b[0;31mModuleNotFoundError\u001b[0m                       Traceback (most recent call last)",
      "\u001b[0;32m<ipython-input-5-43bd0cca7bad>\u001b[0m in \u001b[0;36m<module>\u001b[0;34m\u001b[0m\n\u001b[0;32m----> 1\u001b[0;31m \u001b[0;32mfrom\u001b[0m \u001b[0mhelpers\u001b[0m \u001b[0;32mimport\u001b[0m \u001b[0mgenerate_syn_genotypes\u001b[0m\u001b[0;34m,\u001b[0m \u001b[0mgenerate_syn_phenotypes\u001b[0m\u001b[0;34m\u001b[0m\u001b[0;34m\u001b[0m\u001b[0m\n\u001b[0m\u001b[1;32m      2\u001b[0m from parameters_complete import (\n\u001b[1;32m      3\u001b[0m \u001b[0;34m\u001b[0m\u001b[0m\n\u001b[1;32m      4\u001b[0m     \u001b[0mSYN_DATA_DIR\u001b[0m\u001b[0;34m,\u001b[0m \u001b[0mnoise_snps\u001b[0m\u001b[0;34m,\u001b[0m \u001b[0minform_snps\u001b[0m\u001b[0;34m,\u001b[0m \u001b[0mn_total_snps\u001b[0m\u001b[0;34m,\u001b[0m \u001b[0msyn_n_subjects\u001b[0m\u001b[0;34m,\u001b[0m \u001b[0mttbr\u001b[0m \u001b[0;32mas\u001b[0m \u001b[0mttbr\u001b[0m\u001b[0;34m,\u001b[0m \u001b[0mdisease_IDs\u001b[0m\u001b[0;34m,\u001b[0m\u001b[0;34m\u001b[0m\u001b[0;34m\u001b[0m\u001b[0m\n\u001b[1;32m      5\u001b[0m     FINAL_RESULTS_DIR, REAL_DATA_DIR)\n",
      "\u001b[0;31mModuleNotFoundError\u001b[0m: No module named 'helpers'"
     ]
    }
   ],
   "source": [
    "from helpers import generate_syn_genotypes, generate_syn_phenotypes\n",
    "from parameters_complete import (\n",
    "    \n",
    "    SYN_DATA_DIR, noise_snps, inform_snps, n_total_snps, syn_n_subjects, ttbr as ttbr, disease_IDs,\n",
    "    FINAL_RESULTS_DIR, REAL_DATA_DIR)"
   ]
  },
  {
   "cell_type": "markdown",
   "id": "92dda457",
   "metadata": {},
   "source": [
    "## Class\n"
   ]
  },
  {
   "cell_type": "code",
   "execution_count": null,
   "id": "72a37c51",
   "metadata": {},
   "outputs": [],
   "source": []
  }
 ],
 "metadata": {
  "kernelspec": {
   "display_name": "Python 3",
   "language": "python",
   "name": "python3"
  },
  "language_info": {
   "codemirror_mode": {
    "name": "ipython",
    "version": 3
   },
   "file_extension": ".py",
   "mimetype": "text/x-python",
   "name": "python",
   "nbconvert_exporter": "python",
   "pygments_lexer": "ipython3",
   "version": "3.8.6"
  },
  "toc": {
   "base_numbering": 1,
   "nav_menu": {},
   "number_sections": true,
   "sideBar": true,
   "skip_h1_title": false,
   "title_cell": "Table of Contents",
   "title_sidebar": "Contents",
   "toc_cell": false,
   "toc_position": {},
   "toc_section_display": true,
   "toc_window_display": false
  }
 },
 "nbformat": 4,
 "nbformat_minor": 5
}

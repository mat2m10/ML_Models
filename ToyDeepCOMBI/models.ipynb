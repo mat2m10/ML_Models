{
 "cells": [
  {
   "cell_type": "markdown",
   "id": "alleged-celtic",
   "metadata": {},
   "source": [
    "# Models"
   ]
  },
  {
   "cell_type": "markdown",
   "id": "resistant-exposure",
   "metadata": {},
   "source": [
    "### Adding Libraries"
   ]
  },
  {
   "cell_type": "code",
   "execution_count": 2,
   "id": "moderate-boring",
   "metadata": {},
   "outputs": [],
   "source": [
    "import os\n",
    "\n",
    "from tensorflow.keras import optimizers\n",
    "from tensorflow.keras.callbacks import ModelCheckpoint\n",
    "from tensorflow.keras.layers import Dense, Dropout, Conv1D, Flatten, Activation, AveragePooling1D, MaxPooling1D\n",
    "from tensorflow.keras.models import Sequential, load_model\n",
    "from tensorflow.keras.regularizers import l1_l2\n",
    "#from talos.utils.gpu_utils import multi_gpu, parallel_gpu_jobs\n",
    "\n",
    "#from helpers import get_available_gpus\n",
    "\n",
    "import pdb"
   ]
  },
  {
   "cell_type": "code",
   "execution_count": 3,
   "id": "independent-bouquet",
   "metadata": {},
   "outputs": [],
   "source": [
    "params = {\n",
    "    \"in_shape\":784,\n",
    "    \"L1_out\":32,\n",
    "    \"L1_act\":\"relu\",\n",
    "    \"L2_our\":10,\n",
    "    \"L2_act\":\"softmax\"\n",
    "}\n",
    "\n",
    "model = Sequential()\n",
    "model.add(Dense(params[\"L1_out\"], activation = params[\"L1_act\"], input_shape = (params[\"in_shape\"],)))"
   ]
  },
  {
   "cell_type": "code",
   "execution_count": 4,
   "id": "variable-violence",
   "metadata": {},
   "outputs": [
    {
     "name": "stdout",
     "output_type": "stream",
     "text": [
      "Model: \"sequential\"\n",
      "_________________________________________________________________\n",
      "Layer (type)                 Output Shape              Param #   \n",
      "=================================================================\n",
      "dense (Dense)                (None, 32)                25120     \n",
      "=================================================================\n",
      "Total params: 25,120\n",
      "Trainable params: 25,120\n",
      "Non-trainable params: 0\n",
      "_________________________________________________________________\n"
     ]
    }
   ],
   "source": [
    "model.summary()"
   ]
  },
  {
   "cell_type": "code",
   "execution_count": 4,
   "id": "genetic-lighting",
   "metadata": {},
   "outputs": [
    {
     "name": "stderr",
     "output_type": "stream",
     "text": [
      "Mapping files: 100%|██████████| 3/3 [01:12<00:00, 24.07s/it]\n"
     ]
    }
   ],
   "source": [
    "from pandas_plink import read_plink\n",
    "(bim, fam, G) = read_plink(\"../data_ignored/unrel_10K_EUR/unrel_10k_EUR\")"
   ]
  },
  {
   "cell_type": "code",
   "execution_count": 12,
   "id": "faced-parks",
   "metadata": {},
   "outputs": [
    {
     "name": "stdout",
     "output_type": "stream",
     "text": [
      "Stored 'G' (Array)\n"
     ]
    }
   ],
   "source": [
    "store G"
   ]
  },
  {
   "cell_type": "code",
   "execution_count": 13,
   "id": "laden-pillow",
   "metadata": {},
   "outputs": [
    {
     "data": {
      "text/html": [
       "<div>\n",
       "<style scoped>\n",
       "    .dataframe tbody tr th:only-of-type {\n",
       "        vertical-align: middle;\n",
       "    }\n",
       "\n",
       "    .dataframe tbody tr th {\n",
       "        vertical-align: top;\n",
       "    }\n",
       "\n",
       "    .dataframe thead th {\n",
       "        text-align: right;\n",
       "    }\n",
       "</style>\n",
       "<table border=\"1\" class=\"dataframe\">\n",
       "  <thead>\n",
       "    <tr style=\"text-align: right;\">\n",
       "      <th></th>\n",
       "      <th>chrom</th>\n",
       "      <th>snp</th>\n",
       "      <th>cm</th>\n",
       "      <th>pos</th>\n",
       "      <th>a0</th>\n",
       "      <th>a1</th>\n",
       "      <th>i</th>\n",
       "    </tr>\n",
       "  </thead>\n",
       "  <tbody>\n",
       "    <tr>\n",
       "      <th>16977410</th>\n",
       "      <td>25</td>\n",
       "      <td>XY:155184453:C_T</td>\n",
       "      <td>0.0</td>\n",
       "      <td>155184453</td>\n",
       "      <td>T</td>\n",
       "      <td>C</td>\n",
       "      <td>16977410</td>\n",
       "    </tr>\n",
       "    <tr>\n",
       "      <th>16977411</th>\n",
       "      <td>25</td>\n",
       "      <td>XY:155211793:A_G</td>\n",
       "      <td>0.0</td>\n",
       "      <td>155211793</td>\n",
       "      <td>G</td>\n",
       "      <td>A</td>\n",
       "      <td>16977411</td>\n",
       "    </tr>\n",
       "    <tr>\n",
       "      <th>16977412</th>\n",
       "      <td>25</td>\n",
       "      <td>XY:155221513:A_G</td>\n",
       "      <td>0.0</td>\n",
       "      <td>155221513</td>\n",
       "      <td>A</td>\n",
       "      <td>G</td>\n",
       "      <td>16977412</td>\n",
       "    </tr>\n",
       "    <tr>\n",
       "      <th>16977413</th>\n",
       "      <td>25</td>\n",
       "      <td>XY:155228901:A_G</td>\n",
       "      <td>0.0</td>\n",
       "      <td>155228901</td>\n",
       "      <td>A</td>\n",
       "      <td>G</td>\n",
       "      <td>16977413</td>\n",
       "    </tr>\n",
       "    <tr>\n",
       "      <th>16977414</th>\n",
       "      <td>25</td>\n",
       "      <td>XY:155229962:C_T</td>\n",
       "      <td>0.0</td>\n",
       "      <td>155229962</td>\n",
       "      <td>C</td>\n",
       "      <td>T</td>\n",
       "      <td>16977414</td>\n",
       "    </tr>\n",
       "  </tbody>\n",
       "</table>\n",
       "</div>"
      ],
      "text/plain": [
       "         chrom               snp   cm        pos a0 a1         i\n",
       "16977410    25  XY:155184453:C_T  0.0  155184453  T  C  16977410\n",
       "16977411    25  XY:155211793:A_G  0.0  155211793  G  A  16977411\n",
       "16977412    25  XY:155221513:A_G  0.0  155221513  A  G  16977412\n",
       "16977413    25  XY:155228901:A_G  0.0  155228901  A  G  16977413\n",
       "16977414    25  XY:155229962:C_T  0.0  155229962  C  T  16977414"
      ]
     },
     "execution_count": 13,
     "metadata": {},
     "output_type": "execute_result"
    }
   ],
   "source": [
    "bim.tail()"
   ]
  },
  {
   "cell_type": "code",
   "execution_count": 6,
   "id": "minus-malaysia",
   "metadata": {},
   "outputs": [
    {
     "data": {
      "text/html": [
       "<div>\n",
       "<style scoped>\n",
       "    .dataframe tbody tr th:only-of-type {\n",
       "        vertical-align: middle;\n",
       "    }\n",
       "\n",
       "    .dataframe tbody tr th {\n",
       "        vertical-align: top;\n",
       "    }\n",
       "\n",
       "    .dataframe thead th {\n",
       "        text-align: right;\n",
       "    }\n",
       "</style>\n",
       "<table border=\"1\" class=\"dataframe\">\n",
       "  <thead>\n",
       "    <tr style=\"text-align: right;\">\n",
       "      <th></th>\n",
       "      <th>fid</th>\n",
       "      <th>iid</th>\n",
       "      <th>father</th>\n",
       "      <th>mother</th>\n",
       "      <th>gender</th>\n",
       "      <th>trait</th>\n",
       "      <th>i</th>\n",
       "    </tr>\n",
       "  </thead>\n",
       "  <tbody>\n",
       "    <tr>\n",
       "      <th>9995</th>\n",
       "      <td>6024214</td>\n",
       "      <td>6024214</td>\n",
       "      <td>0</td>\n",
       "      <td>0</td>\n",
       "      <td>0</td>\n",
       "      <td>-9</td>\n",
       "      <td>9995</td>\n",
       "    </tr>\n",
       "    <tr>\n",
       "      <th>9996</th>\n",
       "      <td>6024847</td>\n",
       "      <td>6024847</td>\n",
       "      <td>0</td>\n",
       "      <td>0</td>\n",
       "      <td>0</td>\n",
       "      <td>-9</td>\n",
       "      <td>9996</td>\n",
       "    </tr>\n",
       "    <tr>\n",
       "      <th>9997</th>\n",
       "      <td>6024924</td>\n",
       "      <td>6024924</td>\n",
       "      <td>0</td>\n",
       "      <td>0</td>\n",
       "      <td>0</td>\n",
       "      <td>-9</td>\n",
       "      <td>9997</td>\n",
       "    </tr>\n",
       "    <tr>\n",
       "      <th>9998</th>\n",
       "      <td>6026360</td>\n",
       "      <td>6026360</td>\n",
       "      <td>0</td>\n",
       "      <td>0</td>\n",
       "      <td>0</td>\n",
       "      <td>-9</td>\n",
       "      <td>9998</td>\n",
       "    </tr>\n",
       "    <tr>\n",
       "      <th>9999</th>\n",
       "      <td>6026467</td>\n",
       "      <td>6026467</td>\n",
       "      <td>0</td>\n",
       "      <td>0</td>\n",
       "      <td>0</td>\n",
       "      <td>-9</td>\n",
       "      <td>9999</td>\n",
       "    </tr>\n",
       "  </tbody>\n",
       "</table>\n",
       "</div>"
      ],
      "text/plain": [
       "          fid      iid father mother gender trait     i\n",
       "9995  6024214  6024214      0      0      0    -9  9995\n",
       "9996  6024847  6024847      0      0      0    -9  9996\n",
       "9997  6024924  6024924      0      0      0    -9  9997\n",
       "9998  6026360  6026360      0      0      0    -9  9998\n",
       "9999  6026467  6026467      0      0      0    -9  9999"
      ]
     },
     "execution_count": 6,
     "metadata": {},
     "output_type": "execute_result"
    }
   ],
   "source": [
    "fam.tail()"
   ]
  },
  {
   "cell_type": "code",
   "execution_count": 14,
   "id": "corrected-score",
   "metadata": {},
   "outputs": [],
   "source": [
    "chrom1 = bim.query(\"chrom=='25'\")"
   ]
  },
  {
   "cell_type": "code",
   "execution_count": 15,
   "id": "light-topic",
   "metadata": {},
   "outputs": [],
   "source": [
    "X = G[chrom1.i.values, :].compute()"
   ]
  },
  {
   "cell_type": "code",
   "execution_count": 21,
   "id": "informal-settlement",
   "metadata": {},
   "outputs": [
    {
     "data": {
      "text/plain": [
       "array([[2., 2., 2., ..., 2., 2., 2.],\n",
       "       [1., 2., 2., ..., 2., 2., 1.],\n",
       "       [1., 2., 2., ..., 2., 2., 1.],\n",
       "       ...,\n",
       "       [2., 2., 2., ..., 2., 2., 2.],\n",
       "       [2., 2., 2., ..., 1., 1., 2.],\n",
       "       [2., 2., 2., ..., 2., 2., 2.]], dtype=float32)"
      ]
     },
     "execution_count": 21,
     "metadata": {},
     "output_type": "execute_result"
    }
   ],
   "source": [
    "X"
   ]
  },
  {
   "cell_type": "code",
   "execution_count": null,
   "id": "running-september",
   "metadata": {},
   "outputs": [],
   "source": []
  }
 ],
 "metadata": {
  "kernelspec": {
   "display_name": "Python 3",
   "language": "python",
   "name": "python3"
  },
  "language_info": {
   "codemirror_mode": {
    "name": "ipython",
    "version": 3
   },
   "file_extension": ".py",
   "mimetype": "text/x-python",
   "name": "python",
   "nbconvert_exporter": "python",
   "pygments_lexer": "ipython3",
   "version": "3.8.6"
  },
  "toc": {
   "base_numbering": 1,
   "nav_menu": {},
   "number_sections": true,
   "sideBar": true,
   "skip_h1_title": false,
   "title_cell": "Table of Contents",
   "title_sidebar": "Contents",
   "toc_cell": false,
   "toc_position": {},
   "toc_section_display": true,
   "toc_window_display": false
  }
 },
 "nbformat": 4,
 "nbformat_minor": 5
}

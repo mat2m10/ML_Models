{
 "cells": [
  {
   "cell_type": "markdown",
   "id": "alleged-celtic",
   "metadata": {},
   "source": [
    "# Models"
   ]
  },
  {
   "cell_type": "markdown",
   "id": "resistant-exposure",
   "metadata": {},
   "source": [
    "### Adding Libraries"
   ]
  },
  {
   "cell_type": "code",
   "execution_count": 1,
   "id": "moderate-boring",
   "metadata": {},
   "outputs": [
    {
     "name": "stderr",
     "output_type": "stream",
     "text": [
      "Using TensorFlow backend.\n"
     ]
    }
   ],
   "source": [
    "import os\n",
    "\n",
    "import keras\n",
    "import keras.callbacks\n",
    "from tensorflow.keras import optimizers\n",
    "from tensorflow.keras.callbacks import ModelCheckpoint\n",
    "from tensorflow.keras.layers import Dense, Dropout, Conv1D, Flatten, Activation, AveragePooling1D, MaxPooling1D\n",
    "from tensorflow.keras.models import Sequential, load_model\n",
    "from tensorflow.keras.regularizers import l1_l2\n",
    "from talos.utils.gpu_utils import multi_gpu, parallel_gpu_jobs\n",
    "\n",
    "#from helpers import get_available_gpus\n",
    "\n",
    "import pdb"
   ]
  },
  {
   "cell_type": "code",
   "execution_count": 2,
   "id": "independent-bouquet",
   "metadata": {},
   "outputs": [],
   "source": [
    "params = {\n",
    "    \"in_shape\":784,\n",
    "    \"L1_out\":32,\n",
    "    \"L1_act\":\"relu\",\n",
    "    \"L2_our\":10,\n",
    "    \"L2_act\":\"softmax\"\n",
    "}\n",
    "\n",
    "model = Sequential()\n",
    "model.add(Dense(params[\"L1_out\"], activation = params[\"L1_act\"], input_shape = (params[\"in_shape\"],)))"
   ]
  },
  {
   "cell_type": "code",
   "execution_count": 3,
   "id": "variable-violence",
   "metadata": {},
   "outputs": [
    {
     "name": "stdout",
     "output_type": "stream",
     "text": [
      "Model: \"sequential\"\n",
      "_________________________________________________________________\n",
      "Layer (type)                 Output Shape              Param #   \n",
      "=================================================================\n",
      "dense (Dense)                (None, 32)                25120     \n",
      "=================================================================\n",
      "Total params: 25,120\n",
      "Trainable params: 25,120\n",
      "Non-trainable params: 0\n",
      "_________________________________________________________________\n"
     ]
    }
   ],
   "source": [
    "model.summary()"
   ]
  },
  {
   "cell_type": "code",
   "execution_count": 4,
   "id": "genetic-lighting",
   "metadata": {},
   "outputs": [
    {
     "name": "stderr",
     "output_type": "stream",
     "text": [
      "Mapping files: 100%|██████████| 3/3 [01:08<00:00, 22.98s/it]\n"
     ]
    }
   ],
   "source": [
    "from pandas_plink import read_plink\n",
    "DIR = !pwd\n",
    "(bim, fam, G) = read_plink(f\"{DIR[0]}/data/toy\")"
   ]
  },
  {
   "cell_type": "code",
   "execution_count": 5,
   "id": "laden-pillow",
   "metadata": {},
   "outputs": [
    {
     "data": {
      "text/html": [
       "<div>\n",
       "<style scoped>\n",
       "    .dataframe tbody tr th:only-of-type {\n",
       "        vertical-align: middle;\n",
       "    }\n",
       "\n",
       "    .dataframe tbody tr th {\n",
       "        vertical-align: top;\n",
       "    }\n",
       "\n",
       "    .dataframe thead th {\n",
       "        text-align: right;\n",
       "    }\n",
       "</style>\n",
       "<table border=\"1\" class=\"dataframe\">\n",
       "  <thead>\n",
       "    <tr style=\"text-align: right;\">\n",
       "      <th></th>\n",
       "      <th>chrom</th>\n",
       "      <th>snp</th>\n",
       "      <th>cm</th>\n",
       "      <th>pos</th>\n",
       "      <th>a0</th>\n",
       "      <th>a1</th>\n",
       "      <th>i</th>\n",
       "    </tr>\n",
       "  </thead>\n",
       "  <tbody>\n",
       "    <tr>\n",
       "      <th>0</th>\n",
       "      <td>1</td>\n",
       "      <td>1:55588:C_T</td>\n",
       "      <td>0.0</td>\n",
       "      <td>55588</td>\n",
       "      <td>C</td>\n",
       "      <td>T</td>\n",
       "      <td>0</td>\n",
       "    </tr>\n",
       "    <tr>\n",
       "      <th>1</th>\n",
       "      <td>1</td>\n",
       "      <td>1:58396:C_T</td>\n",
       "      <td>0.0</td>\n",
       "      <td>58396</td>\n",
       "      <td>C</td>\n",
       "      <td>T</td>\n",
       "      <td>1</td>\n",
       "    </tr>\n",
       "    <tr>\n",
       "      <th>2</th>\n",
       "      <td>1</td>\n",
       "      <td>1:62745:C_G</td>\n",
       "      <td>0.0</td>\n",
       "      <td>62745</td>\n",
       "      <td>G</td>\n",
       "      <td>C</td>\n",
       "      <td>2</td>\n",
       "    </tr>\n",
       "    <tr>\n",
       "      <th>3</th>\n",
       "      <td>1</td>\n",
       "      <td>1:65024:C_CT</td>\n",
       "      <td>0.0</td>\n",
       "      <td>65024</td>\n",
       "      <td>C</td>\n",
       "      <td>CT</td>\n",
       "      <td>3</td>\n",
       "    </tr>\n",
       "    <tr>\n",
       "      <th>4</th>\n",
       "      <td>1</td>\n",
       "      <td>1:65030:A_T</td>\n",
       "      <td>0.0</td>\n",
       "      <td>65030</td>\n",
       "      <td>T</td>\n",
       "      <td>A</td>\n",
       "      <td>4</td>\n",
       "    </tr>\n",
       "  </tbody>\n",
       "</table>\n",
       "</div>"
      ],
      "text/plain": [
       "  chrom           snp   cm    pos a0  a1  i\n",
       "0     1   1:55588:C_T  0.0  55588  C   T  0\n",
       "1     1   1:58396:C_T  0.0  58396  C   T  1\n",
       "2     1   1:62745:C_G  0.0  62745  G   C  2\n",
       "3     1  1:65024:C_CT  0.0  65024  C  CT  3\n",
       "4     1   1:65030:A_T  0.0  65030  T   A  4"
      ]
     },
     "execution_count": 5,
     "metadata": {},
     "output_type": "execute_result"
    }
   ],
   "source": [
    "bim.head()"
   ]
  },
  {
   "cell_type": "code",
   "execution_count": 6,
   "id": "minus-malaysia",
   "metadata": {},
   "outputs": [
    {
     "data": {
      "text/html": [
       "<div>\n",
       "<style scoped>\n",
       "    .dataframe tbody tr th:only-of-type {\n",
       "        vertical-align: middle;\n",
       "    }\n",
       "\n",
       "    .dataframe tbody tr th {\n",
       "        vertical-align: top;\n",
       "    }\n",
       "\n",
       "    .dataframe thead th {\n",
       "        text-align: right;\n",
       "    }\n",
       "</style>\n",
       "<table border=\"1\" class=\"dataframe\">\n",
       "  <thead>\n",
       "    <tr style=\"text-align: right;\">\n",
       "      <th></th>\n",
       "      <th>fid</th>\n",
       "      <th>iid</th>\n",
       "      <th>father</th>\n",
       "      <th>mother</th>\n",
       "      <th>gender</th>\n",
       "      <th>trait</th>\n",
       "      <th>i</th>\n",
       "    </tr>\n",
       "  </thead>\n",
       "  <tbody>\n",
       "    <tr>\n",
       "      <th>9995</th>\n",
       "      <td>6024214</td>\n",
       "      <td>6024214</td>\n",
       "      <td>0</td>\n",
       "      <td>0</td>\n",
       "      <td>0</td>\n",
       "      <td>-9</td>\n",
       "      <td>9995</td>\n",
       "    </tr>\n",
       "    <tr>\n",
       "      <th>9996</th>\n",
       "      <td>6024847</td>\n",
       "      <td>6024847</td>\n",
       "      <td>0</td>\n",
       "      <td>0</td>\n",
       "      <td>0</td>\n",
       "      <td>-9</td>\n",
       "      <td>9996</td>\n",
       "    </tr>\n",
       "    <tr>\n",
       "      <th>9997</th>\n",
       "      <td>6024924</td>\n",
       "      <td>6024924</td>\n",
       "      <td>0</td>\n",
       "      <td>0</td>\n",
       "      <td>0</td>\n",
       "      <td>-9</td>\n",
       "      <td>9997</td>\n",
       "    </tr>\n",
       "    <tr>\n",
       "      <th>9998</th>\n",
       "      <td>6026360</td>\n",
       "      <td>6026360</td>\n",
       "      <td>0</td>\n",
       "      <td>0</td>\n",
       "      <td>0</td>\n",
       "      <td>-9</td>\n",
       "      <td>9998</td>\n",
       "    </tr>\n",
       "    <tr>\n",
       "      <th>9999</th>\n",
       "      <td>6026467</td>\n",
       "      <td>6026467</td>\n",
       "      <td>0</td>\n",
       "      <td>0</td>\n",
       "      <td>0</td>\n",
       "      <td>-9</td>\n",
       "      <td>9999</td>\n",
       "    </tr>\n",
       "  </tbody>\n",
       "</table>\n",
       "</div>"
      ],
      "text/plain": [
       "          fid      iid father mother gender trait     i\n",
       "9995  6024214  6024214      0      0      0    -9  9995\n",
       "9996  6024847  6024847      0      0      0    -9  9996\n",
       "9997  6024924  6024924      0      0      0    -9  9997\n",
       "9998  6026360  6026360      0      0      0    -9  9998\n",
       "9999  6026467  6026467      0      0      0    -9  9999"
      ]
     },
     "execution_count": 6,
     "metadata": {},
     "output_type": "execute_result"
    }
   ],
   "source": [
    "fam.tail()"
   ]
  },
  {
   "cell_type": "code",
   "execution_count": 7,
   "id": "corrected-score",
   "metadata": {},
   "outputs": [],
   "source": [
    "chrom1 = bim.query(\"chrom=='1'\")"
   ]
  },
  {
   "cell_type": "code",
   "execution_count": null,
   "id": "light-topic",
   "metadata": {},
   "outputs": [],
   "source": [
    "X = G[chrom1.i.values, :].compute()"
   ]
  },
  {
   "cell_type": "code",
   "execution_count": null,
   "id": "informal-settlement",
   "metadata": {},
   "outputs": [],
   "source": []
  }
 ],
 "metadata": {
  "kernelspec": {
   "display_name": "Python 3",
   "language": "python",
   "name": "python3"
  },
  "language_info": {
   "codemirror_mode": {
    "name": "ipython",
    "version": 3
   },
   "file_extension": ".py",
   "mimetype": "text/x-python",
   "name": "python",
   "nbconvert_exporter": "python",
   "pygments_lexer": "ipython3",
   "version": "3.8.6"
  }
 },
 "nbformat": 4,
 "nbformat_minor": 5
}

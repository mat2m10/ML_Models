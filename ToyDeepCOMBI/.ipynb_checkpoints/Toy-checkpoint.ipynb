{
 "cells": [
  {
   "cell_type": "code",
   "execution_count": 3,
   "id": "5583ea4b",
   "metadata": {},
   "outputs": [],
   "source": [
    "import pickle\n",
    "from pandas_plink import read_plink"
   ]
  },
  {
   "cell_type": "code",
   "execution_count": 2,
   "id": "b08a99d7",
   "metadata": {},
   "outputs": [
    {
     "ename": "NameError",
     "evalue": "name 'read_plink' is not defined",
     "output_type": "error",
     "traceback": [
      "\u001b[0;31m---------------------------------------------------------------------------\u001b[0m",
      "\u001b[0;31mNameError\u001b[0m                                 Traceback (most recent call last)",
      "\u001b[0;32m<ipython-input-2-f4acda181c91>\u001b[0m in \u001b[0;36m<module>\u001b[0;34m\u001b[0m\n\u001b[1;32m      1\u001b[0m \u001b[0;31m#!pwd\u001b[0m\u001b[0;34m\u001b[0m\u001b[0;34m\u001b[0m\u001b[0;34m\u001b[0m\u001b[0m\n\u001b[0;32m----> 2\u001b[0;31m \u001b[0;34m(\u001b[0m\u001b[0mbim\u001b[0m\u001b[0;34m,\u001b[0m \u001b[0mfam\u001b[0m\u001b[0;34m,\u001b[0m \u001b[0mbed\u001b[0m\u001b[0;34m)\u001b[0m \u001b[0;34m=\u001b[0m \u001b[0mread_plink\u001b[0m\u001b[0;34m(\u001b[0m\u001b[0;34m\"./data_ignored/toy\"\u001b[0m\u001b[0;34m)\u001b[0m\u001b[0;34m\u001b[0m\u001b[0;34m\u001b[0m\u001b[0m\n\u001b[0m",
      "\u001b[0;31mNameError\u001b[0m: name 'read_plink' is not defined"
     ]
    }
   ],
   "source": [
    "#!pwd\n",
    "(bim, fam, bed) = read_plink(\"./data_ignored/toy\")"
   ]
  },
  {
   "cell_type": "code",
   "execution_count": 3,
   "id": "98b95005",
   "metadata": {},
   "outputs": [],
   "source": [
    "pickle.dump(bed,open(\"./data_ignored/bed.p\",\"wb\"))"
   ]
  },
  {
   "cell_type": "code",
   "execution_count": null,
   "id": "12b4b153",
   "metadata": {},
   "outputs": [],
   "source": [
    "pickle.dump(fam,open(\"./data_ignored/fam.p\",\"wb\"))"
   ]
  },
  {
   "cell_type": "code",
   "execution_count": null,
   "id": "2f528b78",
   "metadata": {},
   "outputs": [],
   "source": [
    "pickle.bim(bed,open(\"./data_ignored/bim.p\",\"wb\"))"
   ]
  },
  {
   "cell_type": "code",
   "execution_count": null,
   "id": "ba735a29",
   "metadata": {},
   "outputs": [],
   "source": [
    "toy = pickle.load(open('./data_ignored/toy.p',\"rb\"))"
   ]
  },
  {
   "cell_type": "code",
   "execution_count": 1,
   "id": "9c753a5f",
   "metadata": {},
   "outputs": [
    {
     "ename": "NameError",
     "evalue": "name 'toy' is not defined",
     "output_type": "error",
     "traceback": [
      "\u001b[0;31m---------------------------------------------------------------------------\u001b[0m",
      "\u001b[0;31mNameError\u001b[0m                                 Traceback (most recent call last)",
      "\u001b[0;32m<ipython-input-1-f8584fced8bd>\u001b[0m in \u001b[0;36m<module>\u001b[0;34m\u001b[0m\n\u001b[0;32m----> 1\u001b[0;31m \u001b[0mtoy\u001b[0m\u001b[0;34m\u001b[0m\u001b[0;34m\u001b[0m\u001b[0m\n\u001b[0m",
      "\u001b[0;31mNameError\u001b[0m: name 'toy' is not defined"
     ]
    }
   ],
   "source": [
    "toy"
   ]
  },
  {
   "cell_type": "code",
   "execution_count": 3,
   "id": "8b193dc5",
   "metadata": {},
   "outputs": [],
   "source": [
    "chrom1 = bim.query(\"chrom=='1'\")"
   ]
  },
  {
   "cell_type": "code",
   "execution_count": 4,
   "id": "788cacaa",
   "metadata": {},
   "outputs": [
    {
     "data": {
      "text/html": [
       "<div>\n",
       "<style scoped>\n",
       "    .dataframe tbody tr th:only-of-type {\n",
       "        vertical-align: middle;\n",
       "    }\n",
       "\n",
       "    .dataframe tbody tr th {\n",
       "        vertical-align: top;\n",
       "    }\n",
       "\n",
       "    .dataframe thead th {\n",
       "        text-align: right;\n",
       "    }\n",
       "</style>\n",
       "<table border=\"1\" class=\"dataframe\">\n",
       "  <thead>\n",
       "    <tr style=\"text-align: right;\">\n",
       "      <th></th>\n",
       "      <th>chrom</th>\n",
       "      <th>snp</th>\n",
       "      <th>cm</th>\n",
       "      <th>pos</th>\n",
       "      <th>a0</th>\n",
       "      <th>a1</th>\n",
       "      <th>i</th>\n",
       "    </tr>\n",
       "  </thead>\n",
       "  <tbody>\n",
       "    <tr>\n",
       "      <th>0</th>\n",
       "      <td>1</td>\n",
       "      <td>1:55588:C_T</td>\n",
       "      <td>0.0</td>\n",
       "      <td>55588</td>\n",
       "      <td>C</td>\n",
       "      <td>T</td>\n",
       "      <td>0</td>\n",
       "    </tr>\n",
       "    <tr>\n",
       "      <th>1</th>\n",
       "      <td>1</td>\n",
       "      <td>1:58396:C_T</td>\n",
       "      <td>0.0</td>\n",
       "      <td>58396</td>\n",
       "      <td>C</td>\n",
       "      <td>T</td>\n",
       "      <td>1</td>\n",
       "    </tr>\n",
       "    <tr>\n",
       "      <th>2</th>\n",
       "      <td>1</td>\n",
       "      <td>1:62745:C_G</td>\n",
       "      <td>0.0</td>\n",
       "      <td>62745</td>\n",
       "      <td>G</td>\n",
       "      <td>C</td>\n",
       "      <td>2</td>\n",
       "    </tr>\n",
       "    <tr>\n",
       "      <th>3</th>\n",
       "      <td>1</td>\n",
       "      <td>1:65024:C_CT</td>\n",
       "      <td>0.0</td>\n",
       "      <td>65024</td>\n",
       "      <td>C</td>\n",
       "      <td>CT</td>\n",
       "      <td>3</td>\n",
       "    </tr>\n",
       "    <tr>\n",
       "      <th>4</th>\n",
       "      <td>1</td>\n",
       "      <td>1:65030:A_T</td>\n",
       "      <td>0.0</td>\n",
       "      <td>65030</td>\n",
       "      <td>T</td>\n",
       "      <td>A</td>\n",
       "      <td>4</td>\n",
       "    </tr>\n",
       "    <tr>\n",
       "      <th>...</th>\n",
       "      <td>...</td>\n",
       "      <td>...</td>\n",
       "      <td>...</td>\n",
       "      <td>...</td>\n",
       "      <td>...</td>\n",
       "      <td>...</td>\n",
       "      <td>...</td>\n",
       "    </tr>\n",
       "    <tr>\n",
       "      <th>1299723</th>\n",
       "      <td>1</td>\n",
       "      <td>1:249225077:A_G</td>\n",
       "      <td>0.0</td>\n",
       "      <td>249225077</td>\n",
       "      <td>A</td>\n",
       "      <td>G</td>\n",
       "      <td>1299723</td>\n",
       "    </tr>\n",
       "    <tr>\n",
       "      <th>1299724</th>\n",
       "      <td>1</td>\n",
       "      <td>1:249228340:C_T</td>\n",
       "      <td>0.0</td>\n",
       "      <td>249228340</td>\n",
       "      <td>C</td>\n",
       "      <td>T</td>\n",
       "      <td>1299724</td>\n",
       "    </tr>\n",
       "    <tr>\n",
       "      <th>1299725</th>\n",
       "      <td>1</td>\n",
       "      <td>1:249228350:C_T</td>\n",
       "      <td>0.0</td>\n",
       "      <td>249228350</td>\n",
       "      <td>C</td>\n",
       "      <td>T</td>\n",
       "      <td>1299725</td>\n",
       "    </tr>\n",
       "    <tr>\n",
       "      <th>1299726</th>\n",
       "      <td>1</td>\n",
       "      <td>1:249229734:C_T</td>\n",
       "      <td>0.0</td>\n",
       "      <td>249229734</td>\n",
       "      <td>C</td>\n",
       "      <td>T</td>\n",
       "      <td>1299726</td>\n",
       "    </tr>\n",
       "    <tr>\n",
       "      <th>1299727</th>\n",
       "      <td>1</td>\n",
       "      <td>1:249229925:C_T</td>\n",
       "      <td>0.0</td>\n",
       "      <td>249229925</td>\n",
       "      <td>C</td>\n",
       "      <td>T</td>\n",
       "      <td>1299727</td>\n",
       "    </tr>\n",
       "  </tbody>\n",
       "</table>\n",
       "<p>1299728 rows × 7 columns</p>\n",
       "</div>"
      ],
      "text/plain": [
       "        chrom              snp   cm        pos a0  a1        i\n",
       "0           1      1:55588:C_T  0.0      55588  C   T        0\n",
       "1           1      1:58396:C_T  0.0      58396  C   T        1\n",
       "2           1      1:62745:C_G  0.0      62745  G   C        2\n",
       "3           1     1:65024:C_CT  0.0      65024  C  CT        3\n",
       "4           1      1:65030:A_T  0.0      65030  T   A        4\n",
       "...       ...              ...  ...        ... ..  ..      ...\n",
       "1299723     1  1:249225077:A_G  0.0  249225077  A   G  1299723\n",
       "1299724     1  1:249228340:C_T  0.0  249228340  C   T  1299724\n",
       "1299725     1  1:249228350:C_T  0.0  249228350  C   T  1299725\n",
       "1299726     1  1:249229734:C_T  0.0  249229734  C   T  1299726\n",
       "1299727     1  1:249229925:C_T  0.0  249229925  C   T  1299727\n",
       "\n",
       "[1299728 rows x 7 columns]"
      ]
     },
     "execution_count": 4,
     "metadata": {},
     "output_type": "execute_result"
    }
   ],
   "source": [
    "chrom1"
   ]
  },
  {
   "cell_type": "code",
   "execution_count": null,
   "id": "c7a8834c",
   "metadata": {},
   "outputs": [],
   "source": [
    "X = bed[chrom1.i.values, :].compute()"
   ]
  }
 ],
 "metadata": {
  "kernelspec": {
   "display_name": "Python 3",
   "language": "python",
   "name": "python3"
  },
  "language_info": {
   "codemirror_mode": {
    "name": "ipython",
    "version": 3
   },
   "file_extension": ".py",
   "mimetype": "text/x-python",
   "name": "python",
   "nbconvert_exporter": "python",
   "pygments_lexer": "ipython3",
   "version": "3.8.6"
  },
  "toc": {
   "base_numbering": 1,
   "nav_menu": {},
   "number_sections": true,
   "sideBar": true,
   "skip_h1_title": false,
   "title_cell": "Table of Contents",
   "title_sidebar": "Contents",
   "toc_cell": false,
   "toc_position": {},
   "toc_section_display": true,
   "toc_window_display": false
  }
 },
 "nbformat": 4,
 "nbformat_minor": 5
}

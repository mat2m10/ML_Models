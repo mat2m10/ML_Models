{
 "cells": [
  {
   "cell_type": "code",
   "execution_count": 21,
   "id": "a10be261",
   "metadata": {},
   "outputs": [
    {
     "name": "stderr",
     "output_type": "stream",
     "text": [
      "                                     \r"
     ]
    },
    {
     "ename": "ValueError",
     "evalue": "cannot reshape array of size 10 into shape (1,newaxis,3)",
     "output_type": "error",
     "traceback": [
      "\u001b[0;31m---------------------------------------------------------------------------\u001b[0m",
      "\u001b[0;31mValueError\u001b[0m                                Traceback (most recent call last)",
      "\u001b[0;32m<ipython-input-21-61955881edd2>\u001b[0m in \u001b[0;36m<module>\u001b[0;34m\u001b[0m\n\u001b[1;32m     16\u001b[0m             \u001b[0mHere\u001b[0m \u001b[0mwe\u001b[0m \u001b[0mdelete\u001b[0m \u001b[0mthe\u001b[0m \u001b[0;34m\"Something\"\u001b[0m \u001b[0;32mfrom\u001b[0m \u001b[0mthe\u001b[0m \u001b[0mdata\u001b[0m \u001b[0;32mwith\u001b[0m \u001b[0;34m[\u001b[0m\u001b[0;34m:\u001b[0m\u001b[0;34m,\u001b[0m\u001b[0;34m:\u001b[0m\u001b[0;34m,\u001b[0m\u001b[0;34m:\u001b[0m\u001b[0;36m2\u001b[0m\u001b[0;34m]\u001b[0m \u001b[0;34m(\u001b[0m\u001b[0mSkipping\u001b[0m \u001b[0mthe\u001b[0m \u001b[0;36m3\u001b[0m\u001b[0md\u001b[0m \u001b[0melement\u001b[0m\u001b[0;34m)\u001b[0m\u001b[0;34m\u001b[0m\u001b[0;34m\u001b[0m\u001b[0m\n\u001b[1;32m     17\u001b[0m             \"\"\"\n\u001b[0;32m---> 18\u001b[0;31m             \u001b[0mchrom_2\u001b[0m \u001b[0;34m=\u001b[0m \u001b[0mchrom\u001b[0m\u001b[0;34m.\u001b[0m\u001b[0mreshape\u001b[0m\u001b[0;34m(\u001b[0m\u001b[0mchrom\u001b[0m\u001b[0;34m.\u001b[0m\u001b[0mshape\u001b[0m\u001b[0;34m[\u001b[0m\u001b[0;36m0\u001b[0m\u001b[0;34m]\u001b[0m\u001b[0;34m,\u001b[0m \u001b[0;34m-\u001b[0m\u001b[0;36m1\u001b[0m\u001b[0;34m,\u001b[0m \u001b[0;36m3\u001b[0m\u001b[0;34m)\u001b[0m\u001b[0;34m[\u001b[0m\u001b[0;34m:\u001b[0m\u001b[0;34m,\u001b[0m \u001b[0;34m:\u001b[0m\u001b[0;34m,\u001b[0m \u001b[0;34m:\u001b[0m\u001b[0;36m2\u001b[0m\u001b[0;34m]\u001b[0m\u001b[0;34m\u001b[0m\u001b[0;34m\u001b[0m\u001b[0m\n\u001b[0m\u001b[1;32m     19\u001b[0m             \u001b[0mprint\u001b[0m\u001b[0;34m(\u001b[0m\u001b[0mchrom_2\u001b[0m\u001b[0;34m)\u001b[0m\u001b[0;34m\u001b[0m\u001b[0;34m\u001b[0m\u001b[0m\n\u001b[1;32m     20\u001b[0m             \u001b[0;32mdel\u001b[0m \u001b[0mchrom\u001b[0m\u001b[0;34m\u001b[0m\u001b[0;34m\u001b[0m\u001b[0m\n",
      "\u001b[0;31mValueError\u001b[0m: cannot reshape array of size 10 into shape (1,newaxis,3)"
     ]
    }
   ],
   "source": [
    "import os \n",
    "import h5py\n",
    "import numpy as np\n",
    "from tqdm import tqdm\n",
    "\"\"\"\n",
    "When importing the chromo_<val>.mat file it should be in this format:\n",
    "[[A1 A2 \"Something\" B1 B2 \"Something\" ...][A1 A2 Something (but from individu 2)][...]]\n",
    "\"\"\"\n",
    "\n",
    "for disease in ['AZ']:\n",
    "    for i in tqdm(range(1,2),leave=False):\n",
    "        with h5py.File(os.path.join('../data/UKB/{}/chromo_{}.mat'.format(disease, i)), 'r') as f:\n",
    "            chrom = np.array(f.get('X')).T\n",
    "            assert chrom.shape[1] > chrom.shape[0]\n",
    "            \"\"\"\n",
    "            Here we delete the \"Something\" from the data with [:,:,:2] (Skipping the 3d element)\n",
    "            \"\"\"\n",
    "            chrom_2 = chrom.reshape(chrom.shape[0], -1, 3)[:, :, :2]\n",
    "            print(chrom_2)\n",
    "            del chrom\n",
    "            \n",
    "        with h5py.File(os.path.join('../data/UKB/{}/chromo_{}.h5py'.format(disease, i)), 'w') as f:\n",
    "            f.create_dataset(\"X\", data=chrom_2)\n",
    "            del chrom_2;\n",
    "            "
   ]
  },
  {
   "cell_type": "code",
   "execution_count": 37,
   "id": "54fee9f6",
   "metadata": {},
   "outputs": [],
   "source": [
    "chrom = [[49,55,68,22],[48,55,68,22],[48,55,68,22]]\n",
    "chrom\n",
    "chrom2 = [[\"A\",\"C\",\"T\",\"G\"],[\"T\",\"C\",\"G\",\"A\"]]\n",
    "chrom3 = [[\"AA \",\"CT \",\"TA \",\"GC \"],[\"TT \",\"CC \",\"GG \",\"AA \"]]\n",
    "chrom4 = [\"AA CC TT GG CT\"]"
   ]
  },
  {
   "cell_type": "code",
   "execution_count": 39,
   "id": "456039d5",
   "metadata": {},
   "outputs": [
    {
     "data": {
      "text/plain": [
       "[48]"
      ]
     },
     "execution_count": 39,
     "metadata": {},
     "output_type": "execute_result"
    }
   ],
   "source": [
    "chrom[chrom == 48] = 255\n",
    "chrom\n",
    "chrom2[chrom2 == 48] = 255\n",
    "chrom2\n",
    "chrom3[chrom3 == 48] = 255\n",
    "chrom3\n",
    "chrom4[chrom3 == 255] = 48\n",
    "chrom4\n"
   ]
  },
  {
   "cell_type": "code",
   "execution_count": 2,
   "id": "d483010f",
   "metadata": {},
   "outputs": [
    {
     "name": "stdout",
     "output_type": "stream",
     "text": [
      "[-51, -44, -45]\n"
     ]
    }
   ],
   "source": [
    "letters = \" \"\n",
    "\n",
    "\n",
    "numbers = [ord(letter) - 96 for letter in letters]\n",
    "print(numbers)\n"
   ]
  }
 ],
 "metadata": {
  "kernelspec": {
   "display_name": "Python 3",
   "language": "python",
   "name": "python3"
  },
  "language_info": {
   "codemirror_mode": {
    "name": "ipython",
    "version": 3
   },
   "file_extension": ".py",
   "mimetype": "text/x-python",
   "name": "python",
   "nbconvert_exporter": "python",
   "pygments_lexer": "ipython3",
   "version": "3.8.6"
  },
  "toc": {
   "base_numbering": 1,
   "nav_menu": {},
   "number_sections": true,
   "sideBar": true,
   "skip_h1_title": false,
   "title_cell": "Table of Contents",
   "title_sidebar": "Contents",
   "toc_cell": false,
   "toc_position": {},
   "toc_section_display": true,
   "toc_window_display": false
  }
 },
 "nbformat": 4,
 "nbformat_minor": 5
}

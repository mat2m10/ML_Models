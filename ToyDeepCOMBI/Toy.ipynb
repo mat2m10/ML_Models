{
 "cells": [
  {
   "cell_type": "code",
   "execution_count": 1,
   "id": "5583ea4b",
   "metadata": {},
   "outputs": [],
   "source": [
    "from pandas_plink import read_plink"
   ]
  },
  {
   "cell_type": "code",
   "execution_count": 2,
   "id": "b08a99d7",
   "metadata": {},
   "outputs": [
    {
     "name": "stderr",
     "output_type": "stream",
     "text": [
      "Mapping files: 100%|██████████| 3/3 [01:19<00:00, 26.51s/it]\n"
     ]
    }
   ],
   "source": [
    "#!pwd\n",
    "(bim, fam, bed) = read_plink(\"./data_ignored/toy\")\n",
    "#G"
   ]
  },
  {
   "cell_type": "code",
   "execution_count": 3,
   "id": "8b193dc5",
   "metadata": {},
   "outputs": [],
   "source": [
    "chrom1 = bim.query(\"chrom=='1'\")"
   ]
  },
  {
   "cell_type": "code",
   "execution_count": 1,
   "id": "788cacaa",
   "metadata": {},
   "outputs": [
    {
     "ename": "NameError",
     "evalue": "name 'chrom1' is not defined",
     "output_type": "error",
     "traceback": [
      "\u001b[0;31m---------------------------------------------------------------------------\u001b[0m",
      "\u001b[0;31mNameError\u001b[0m                                 Traceback (most recent call last)",
      "\u001b[0;32m<ipython-input-1-3cfad5fb1e8f>\u001b[0m in \u001b[0;36m<module>\u001b[0;34m\u001b[0m\n\u001b[0;32m----> 1\u001b[0;31m \u001b[0mchrom1\u001b[0m\u001b[0;34m\u001b[0m\u001b[0;34m\u001b[0m\u001b[0m\n\u001b[0m",
      "\u001b[0;31mNameError\u001b[0m: name 'chrom1' is not defined"
     ]
    }
   ],
   "source": [
    "chrom1"
   ]
  },
  {
   "cell_type": "code",
   "execution_count": null,
   "id": "c7a8834c",
   "metadata": {},
   "outputs": [],
   "source": [
    "X = bed[chrom1.i.values, :].compute()"
   ]
  }
 ],
 "metadata": {
  "kernelspec": {
   "display_name": "Python 3",
   "language": "python",
   "name": "python3"
  },
  "language_info": {
   "codemirror_mode": {
    "name": "ipython",
    "version": 3
   },
   "file_extension": ".py",
   "mimetype": "text/x-python",
   "name": "python",
   "nbconvert_exporter": "python",
   "pygments_lexer": "ipython3",
   "version": "3.8.6"
  },
  "toc": {
   "base_numbering": 1,
   "nav_menu": {},
   "number_sections": true,
   "sideBar": true,
   "skip_h1_title": false,
   "title_cell": "Table of Contents",
   "title_sidebar": "Contents",
   "toc_cell": false,
   "toc_position": {},
   "toc_section_display": true,
   "toc_window_display": false
  }
 },
 "nbformat": 4,
 "nbformat_minor": 5
}

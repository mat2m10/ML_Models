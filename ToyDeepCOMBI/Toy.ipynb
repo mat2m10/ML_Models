{
 "cells": [
  {
   "cell_type": "code",
   "execution_count": 11,
   "id": "5583ea4b",
   "metadata": {},
   "outputs": [],
   "source": [
    "import pickle\n",
    "import pandas as pd\n",
    "from pandas_plink import read_plink\n"
   ]
  },
  {
   "cell_type": "code",
   "execution_count": 3,
   "id": "b08a99d7",
   "metadata": {},
   "outputs": [
    {
     "name": "stderr",
     "output_type": "stream",
     "text": [
      "Mapping files: 100%|██████████| 3/3 [01:15<00:00, 25.21s/it]\n"
     ]
    }
   ],
   "source": [
    "#!pwd\n",
    "\n",
    "(bim, fam, bed) = read_plink(\"./data_ignored/toy\")"
   ]
  },
  {
   "cell_type": "code",
   "execution_count": 5,
   "id": "1b8fa715",
   "metadata": {},
   "outputs": [],
   "source": [
    "# pickle.dump(bed,open(\"./data_ignored/bed.p\",\"wb\"))"
   ]
  },
  {
   "cell_type": "code",
   "execution_count": 6,
   "id": "62c26716",
   "metadata": {},
   "outputs": [],
   "source": [
    "# pickle.dump(fam,open(\"./data_ignored/fam.p\",\"wb\"))"
   ]
  },
  {
   "cell_type": "code",
   "execution_count": 8,
   "id": "34d1144d",
   "metadata": {},
   "outputs": [],
   "source": [
    "# pickle.dump(bim,open(\"./data_ignored/bim.p\",\"wb\"))"
   ]
  },
  {
   "cell_type": "code",
   "execution_count": null,
   "id": "629b1dcf",
   "metadata": {},
   "outputs": [],
   "source": [
    "# bim = pickle.load(open('./data_ignored/bim.p',\"rb\"))"
   ]
  },
  {
   "cell_type": "code",
   "execution_count": 12,
   "id": "bed107c4",
   "metadata": {},
   "outputs": [
    {
     "ename": "ImportError",
     "evalue": "Missing optional dependency 'tables'.  Use pip or conda to install tables.",
     "output_type": "error",
     "traceback": [
      "\u001b[0;31m---------------------------------------------------------------------------\u001b[0m",
      "\u001b[0;31mImportError\u001b[0m                               Traceback (most recent call last)",
      "\u001b[0;32m<ipython-input-12-88b3247dee46>\u001b[0m in \u001b[0;36m<module>\u001b[0;34m\u001b[0m\n\u001b[0;32m----> 1\u001b[0;31m \u001b[0mstore\u001b[0m \u001b[0;34m=\u001b[0m \u001b[0mpd\u001b[0m\u001b[0;34m.\u001b[0m\u001b[0mHDFStore\u001b[0m\u001b[0;34m(\u001b[0m\u001b[0;34m'./data_ignored/bed.h5'\u001b[0m\u001b[0;34m)\u001b[0m\u001b[0;34m\u001b[0m\u001b[0;34m\u001b[0m\u001b[0m\n\u001b[0m",
      "\u001b[0;32m~/.pyenv/versions/3.8.6/envs/ctg/lib/python3.8/site-packages/pandas/io/pytables.py\u001b[0m in \u001b[0;36m__init__\u001b[0;34m(self, path, mode, complevel, complib, fletcher32, **kwargs)\u001b[0m\n\u001b[1;32m    540\u001b[0m             \u001b[0;32mraise\u001b[0m \u001b[0mValueError\u001b[0m\u001b[0;34m(\u001b[0m\u001b[0;34m\"format is not a defined argument for HDFStore\"\u001b[0m\u001b[0;34m)\u001b[0m\u001b[0;34m\u001b[0m\u001b[0;34m\u001b[0m\u001b[0m\n\u001b[1;32m    541\u001b[0m \u001b[0;34m\u001b[0m\u001b[0m\n\u001b[0;32m--> 542\u001b[0;31m         \u001b[0mtables\u001b[0m \u001b[0;34m=\u001b[0m \u001b[0mimport_optional_dependency\u001b[0m\u001b[0;34m(\u001b[0m\u001b[0;34m\"tables\"\u001b[0m\u001b[0;34m)\u001b[0m\u001b[0;34m\u001b[0m\u001b[0;34m\u001b[0m\u001b[0m\n\u001b[0m\u001b[1;32m    543\u001b[0m \u001b[0;34m\u001b[0m\u001b[0m\n\u001b[1;32m    544\u001b[0m         \u001b[0;32mif\u001b[0m \u001b[0mcomplib\u001b[0m \u001b[0;32mis\u001b[0m \u001b[0;32mnot\u001b[0m \u001b[0;32mNone\u001b[0m \u001b[0;32mand\u001b[0m \u001b[0mcomplib\u001b[0m \u001b[0;32mnot\u001b[0m \u001b[0;32min\u001b[0m \u001b[0mtables\u001b[0m\u001b[0;34m.\u001b[0m\u001b[0mfilters\u001b[0m\u001b[0;34m.\u001b[0m\u001b[0mall_complibs\u001b[0m\u001b[0;34m:\u001b[0m\u001b[0;34m\u001b[0m\u001b[0;34m\u001b[0m\u001b[0m\n",
      "\u001b[0;32m~/.pyenv/versions/3.8.6/envs/ctg/lib/python3.8/site-packages/pandas/compat/_optional.py\u001b[0m in \u001b[0;36mimport_optional_dependency\u001b[0;34m(name, extra, raise_on_missing, on_version)\u001b[0m\n\u001b[1;32m    107\u001b[0m     \u001b[0;32mexcept\u001b[0m \u001b[0mImportError\u001b[0m\u001b[0;34m:\u001b[0m\u001b[0;34m\u001b[0m\u001b[0;34m\u001b[0m\u001b[0m\n\u001b[1;32m    108\u001b[0m         \u001b[0;32mif\u001b[0m \u001b[0mraise_on_missing\u001b[0m\u001b[0;34m:\u001b[0m\u001b[0;34m\u001b[0m\u001b[0;34m\u001b[0m\u001b[0m\n\u001b[0;32m--> 109\u001b[0;31m             \u001b[0;32mraise\u001b[0m \u001b[0mImportError\u001b[0m\u001b[0;34m(\u001b[0m\u001b[0mmsg\u001b[0m\u001b[0;34m)\u001b[0m \u001b[0;32mfrom\u001b[0m \u001b[0;32mNone\u001b[0m\u001b[0;34m\u001b[0m\u001b[0;34m\u001b[0m\u001b[0m\n\u001b[0m\u001b[1;32m    110\u001b[0m         \u001b[0;32melse\u001b[0m\u001b[0;34m:\u001b[0m\u001b[0;34m\u001b[0m\u001b[0;34m\u001b[0m\u001b[0m\n\u001b[1;32m    111\u001b[0m             \u001b[0;32mreturn\u001b[0m \u001b[0;32mNone\u001b[0m\u001b[0;34m\u001b[0m\u001b[0;34m\u001b[0m\u001b[0m\n",
      "\u001b[0;31mImportError\u001b[0m: Missing optional dependency 'tables'.  Use pip or conda to install tables."
     ]
    }
   ],
   "source": [
    "store = pd.HDFStore('./data_ignored/bed.h5')\n"
   ]
  },
  {
   "cell_type": "code",
   "execution_count": 4,
   "id": "58625c88",
   "metadata": {},
   "outputs": [
    {
     "ename": "TypeError",
     "evalue": "write() argument must be str, not Array",
     "output_type": "error",
     "traceback": [
      "\u001b[0;31m---------------------------------------------------------------------------\u001b[0m",
      "\u001b[0;31mTypeError\u001b[0m                                 Traceback (most recent call last)",
      "\u001b[0;32m<ipython-input-4-415614a08a8d>\u001b[0m in \u001b[0;36m<module>\u001b[0;34m\u001b[0m\n\u001b[1;32m      1\u001b[0m \u001b[0mfile\u001b[0m \u001b[0;34m=\u001b[0m \u001b[0mopen\u001b[0m\u001b[0;34m(\u001b[0m\u001b[0;34m\"bed.txt\"\u001b[0m\u001b[0;34m,\u001b[0m\u001b[0;34m\"w\"\u001b[0m\u001b[0;34m)\u001b[0m\u001b[0;34m\u001b[0m\u001b[0;34m\u001b[0m\u001b[0m\n\u001b[0;32m----> 2\u001b[0;31m \u001b[0mfile\u001b[0m\u001b[0;34m.\u001b[0m\u001b[0mwrite\u001b[0m\u001b[0;34m(\u001b[0m\u001b[0mbed\u001b[0m\u001b[0;34m)\u001b[0m\u001b[0;34m\u001b[0m\u001b[0;34m\u001b[0m\u001b[0m\n\u001b[0m",
      "\u001b[0;31mTypeError\u001b[0m: write() argument must be str, not Array"
     ]
    }
   ],
   "source": [
    "file = open(\"bed.txt\",\"w\")\n",
    "file.write(bed)\n"
   ]
  },
  {
   "cell_type": "code",
   "execution_count": null,
   "id": "37f437d2",
   "metadata": {},
   "outputs": [],
   "source": []
  },
  {
   "cell_type": "code",
   "execution_count": null,
   "id": "a54f2cd3",
   "metadata": {},
   "outputs": [],
   "source": []
  },
  {
   "cell_type": "code",
   "execution_count": 3,
   "id": "8b193dc5",
   "metadata": {},
   "outputs": [],
   "source": [
    "chrom1 = bim.query(\"chrom=='1'\")"
   ]
  },
  {
   "cell_type": "code",
   "execution_count": 4,
   "id": "788cacaa",
   "metadata": {},
   "outputs": [
    {
     "data": {
      "text/html": [
       "<div>\n",
       "<style scoped>\n",
       "    .dataframe tbody tr th:only-of-type {\n",
       "        vertical-align: middle;\n",
       "    }\n",
       "\n",
       "    .dataframe tbody tr th {\n",
       "        vertical-align: top;\n",
       "    }\n",
       "\n",
       "    .dataframe thead th {\n",
       "        text-align: right;\n",
       "    }\n",
       "</style>\n",
       "<table border=\"1\" class=\"dataframe\">\n",
       "  <thead>\n",
       "    <tr style=\"text-align: right;\">\n",
       "      <th></th>\n",
       "      <th>chrom</th>\n",
       "      <th>snp</th>\n",
       "      <th>cm</th>\n",
       "      <th>pos</th>\n",
       "      <th>a0</th>\n",
       "      <th>a1</th>\n",
       "      <th>i</th>\n",
       "    </tr>\n",
       "  </thead>\n",
       "  <tbody>\n",
       "    <tr>\n",
       "      <th>0</th>\n",
       "      <td>1</td>\n",
       "      <td>1:55588:C_T</td>\n",
       "      <td>0.0</td>\n",
       "      <td>55588</td>\n",
       "      <td>C</td>\n",
       "      <td>T</td>\n",
       "      <td>0</td>\n",
       "    </tr>\n",
       "    <tr>\n",
       "      <th>1</th>\n",
       "      <td>1</td>\n",
       "      <td>1:58396:C_T</td>\n",
       "      <td>0.0</td>\n",
       "      <td>58396</td>\n",
       "      <td>C</td>\n",
       "      <td>T</td>\n",
       "      <td>1</td>\n",
       "    </tr>\n",
       "    <tr>\n",
       "      <th>2</th>\n",
       "      <td>1</td>\n",
       "      <td>1:62745:C_G</td>\n",
       "      <td>0.0</td>\n",
       "      <td>62745</td>\n",
       "      <td>G</td>\n",
       "      <td>C</td>\n",
       "      <td>2</td>\n",
       "    </tr>\n",
       "    <tr>\n",
       "      <th>3</th>\n",
       "      <td>1</td>\n",
       "      <td>1:65024:C_CT</td>\n",
       "      <td>0.0</td>\n",
       "      <td>65024</td>\n",
       "      <td>C</td>\n",
       "      <td>CT</td>\n",
       "      <td>3</td>\n",
       "    </tr>\n",
       "    <tr>\n",
       "      <th>4</th>\n",
       "      <td>1</td>\n",
       "      <td>1:65030:A_T</td>\n",
       "      <td>0.0</td>\n",
       "      <td>65030</td>\n",
       "      <td>T</td>\n",
       "      <td>A</td>\n",
       "      <td>4</td>\n",
       "    </tr>\n",
       "    <tr>\n",
       "      <th>...</th>\n",
       "      <td>...</td>\n",
       "      <td>...</td>\n",
       "      <td>...</td>\n",
       "      <td>...</td>\n",
       "      <td>...</td>\n",
       "      <td>...</td>\n",
       "      <td>...</td>\n",
       "    </tr>\n",
       "    <tr>\n",
       "      <th>1299723</th>\n",
       "      <td>1</td>\n",
       "      <td>1:249225077:A_G</td>\n",
       "      <td>0.0</td>\n",
       "      <td>249225077</td>\n",
       "      <td>A</td>\n",
       "      <td>G</td>\n",
       "      <td>1299723</td>\n",
       "    </tr>\n",
       "    <tr>\n",
       "      <th>1299724</th>\n",
       "      <td>1</td>\n",
       "      <td>1:249228340:C_T</td>\n",
       "      <td>0.0</td>\n",
       "      <td>249228340</td>\n",
       "      <td>C</td>\n",
       "      <td>T</td>\n",
       "      <td>1299724</td>\n",
       "    </tr>\n",
       "    <tr>\n",
       "      <th>1299725</th>\n",
       "      <td>1</td>\n",
       "      <td>1:249228350:C_T</td>\n",
       "      <td>0.0</td>\n",
       "      <td>249228350</td>\n",
       "      <td>C</td>\n",
       "      <td>T</td>\n",
       "      <td>1299725</td>\n",
       "    </tr>\n",
       "    <tr>\n",
       "      <th>1299726</th>\n",
       "      <td>1</td>\n",
       "      <td>1:249229734:C_T</td>\n",
       "      <td>0.0</td>\n",
       "      <td>249229734</td>\n",
       "      <td>C</td>\n",
       "      <td>T</td>\n",
       "      <td>1299726</td>\n",
       "    </tr>\n",
       "    <tr>\n",
       "      <th>1299727</th>\n",
       "      <td>1</td>\n",
       "      <td>1:249229925:C_T</td>\n",
       "      <td>0.0</td>\n",
       "      <td>249229925</td>\n",
       "      <td>C</td>\n",
       "      <td>T</td>\n",
       "      <td>1299727</td>\n",
       "    </tr>\n",
       "  </tbody>\n",
       "</table>\n",
       "<p>1299728 rows × 7 columns</p>\n",
       "</div>"
      ],
      "text/plain": [
       "        chrom              snp   cm        pos a0  a1        i\n",
       "0           1      1:55588:C_T  0.0      55588  C   T        0\n",
       "1           1      1:58396:C_T  0.0      58396  C   T        1\n",
       "2           1      1:62745:C_G  0.0      62745  G   C        2\n",
       "3           1     1:65024:C_CT  0.0      65024  C  CT        3\n",
       "4           1      1:65030:A_T  0.0      65030  T   A        4\n",
       "...       ...              ...  ...        ... ..  ..      ...\n",
       "1299723     1  1:249225077:A_G  0.0  249225077  A   G  1299723\n",
       "1299724     1  1:249228340:C_T  0.0  249228340  C   T  1299724\n",
       "1299725     1  1:249228350:C_T  0.0  249228350  C   T  1299725\n",
       "1299726     1  1:249229734:C_T  0.0  249229734  C   T  1299726\n",
       "1299727     1  1:249229925:C_T  0.0  249229925  C   T  1299727\n",
       "\n",
       "[1299728 rows x 7 columns]"
      ]
     },
     "execution_count": 4,
     "metadata": {},
     "output_type": "execute_result"
    }
   ],
   "source": [
    "chrom1"
   ]
  },
  {
   "cell_type": "code",
   "execution_count": null,
   "id": "c7a8834c",
   "metadata": {},
   "outputs": [],
   "source": [
    "X = bed[chrom1.i.values, :].compute()"
   ]
  }
 ],
 "metadata": {
  "kernelspec": {
   "display_name": "Python 3",
   "language": "python",
   "name": "python3"
  },
  "language_info": {
   "codemirror_mode": {
    "name": "ipython",
    "version": 3
   },
   "file_extension": ".py",
   "mimetype": "text/x-python",
   "name": "python",
   "nbconvert_exporter": "python",
   "pygments_lexer": "ipython3",
   "version": "3.8.6"
  },
  "toc": {
   "base_numbering": 1,
   "nav_menu": {},
   "number_sections": true,
   "sideBar": true,
   "skip_h1_title": false,
   "title_cell": "Table of Contents",
   "title_sidebar": "Contents",
   "toc_cell": false,
   "toc_position": {},
   "toc_section_display": true,
   "toc_window_display": false
  }
 },
 "nbformat": 4,
 "nbformat_minor": 5
}

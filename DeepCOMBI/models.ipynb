{
 "cells": [
  {
   "cell_type": "markdown",
   "id": "alleged-celtic",
   "metadata": {},
   "source": [
    "# Models"
   ]
  },
  {
   "cell_type": "markdown",
   "id": "resistant-exposure",
   "metadata": {},
   "source": [
    "### Adding Libraries"
   ]
  },
  {
   "cell_type": "code",
   "execution_count": 18,
   "id": "moderate-boring",
   "metadata": {},
   "outputs": [],
   "source": [
    "import os\n",
    "\n",
    "import keras\n",
    "import keras.callbacks\n",
    "from tensorflow.keras import optimizers\n",
    "from tensorflow.keras.callbacks import ModelCheckpoint\n",
    "from tensorflow.keras.layers import Dense, Dropout, Conv1D, Flatten, Activation, AveragePooling1D, MaxPooling1D\n",
    "from tensorflow.keras.models import Sequential, load_model\n",
    "from tensorflow.keras.regularizers import l1_l2\n",
    "from talos.utils.gpu_utils import multi_gpu, parallel_gpu_jobs\n",
    "\n",
    "#from helpers import get_available_gpus\n",
    "\n",
    "import pdb"
   ]
  },
  {
   "cell_type": "code",
   "execution_count": 19,
   "id": "independent-bouquet",
   "metadata": {},
   "outputs": [],
   "source": [
    "params = {\n",
    "    \"in_shape\":784,\n",
    "    \"L1_out\":32,\n",
    "    \"L1_act\":\"relu\",\n",
    "    \"L2_our\":10,\n",
    "    \"L2_act\":\"softmax\"\n",
    "}\n",
    "\n",
    "model = Sequential()\n",
    "model.add(Dense(params[\"L1_out\"], activation = params[\"L1_act\"], input_shape = (params[\"in_shape\"],)))"
   ]
  },
  {
   "cell_type": "code",
   "execution_count": 21,
   "id": "variable-violence",
   "metadata": {},
   "outputs": [
    {
     "name": "stdout",
     "output_type": "stream",
     "text": [
      "Model: \"sequential_6\"\n",
      "_________________________________________________________________\n",
      "Layer (type)                 Output Shape              Param #   \n",
      "=================================================================\n",
      "dense_3 (Dense)              (None, 32)                25120     \n",
      "=================================================================\n",
      "Total params: 25,120\n",
      "Trainable params: 25,120\n",
      "Non-trainable params: 0\n",
      "_________________________________________________________________\n"
     ]
    }
   ],
   "source": [
    "model.summary()"
   ]
  },
  {
   "cell_type": "code",
   "execution_count": null,
   "id": "genetic-lighting",
   "metadata": {},
   "outputs": [],
   "source": [
    "from pandas_plink import read_plink\n",
    "(bim, fam, G) = read_plink('/data/to/data')"
   ]
  }
 ],
 "metadata": {
  "kernelspec": {
   "display_name": "Python 3",
   "language": "python",
   "name": "python3"
  },
  "language_info": {
   "codemirror_mode": {
    "name": "ipython",
    "version": 3
   },
   "file_extension": ".py",
   "mimetype": "text/x-python",
   "name": "python",
   "nbconvert_exporter": "python",
   "pygments_lexer": "ipython3",
   "version": "3.8.6"
  }
 },
 "nbformat": 4,
 "nbformat_minor": 5
}

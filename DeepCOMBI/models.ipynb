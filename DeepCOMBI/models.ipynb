{
 "cells": [
  {
   "cell_type": "markdown",
   "id": "alleged-celtic",
   "metadata": {},
   "source": [
    "# Models"
   ]
  },
  {
   "cell_type": "markdown",
   "id": "resistant-exposure",
   "metadata": {},
   "source": [
    "### Adding Libraries"
   ]
  },
  {
   "cell_type": "code",
   "execution_count": 15,
   "id": "moderate-boring",
   "metadata": {},
   "outputs": [],
   "source": [
    "import keras\n",
    "from tensorflow.keras.layers import Dense\n",
    "from tensorflow.keras.models import Sequential"
   ]
  },
  {
   "cell_type": "code",
   "execution_count": 41,
   "id": "independent-bouquet",
   "metadata": {},
   "outputs": [],
   "source": [
    "params = {\n",
    "    \"in_shape\":784,\n",
    "    \"L1_out\":32,\n",
    "    \"L1_act\":\"relu\",\n",
    "    \"L2_our\":10,\n",
    "    \"L2_act\":\"softmax\"\n",
    "}\n",
    "\n",
    "model = Sequential()\n",
    "model.add(Dense(params[\"L1_out\"], activation = params[\"L1_act\"], input_shape = (params[\"in_shape\"],)))"
   ]
  },
  {
   "cell_type": "code",
   "execution_count": 42,
   "id": "variable-violence",
   "metadata": {},
   "outputs": [
    {
     "name": "stdout",
     "output_type": "stream",
     "text": [
      "Model: \"sequential_15\"\n",
      "_________________________________________________________________\n",
      "Layer (type)                 Output Shape              Param #   \n",
      "=================================================================\n",
      "dense_13 (Dense)             (None, 32)                25120     \n",
      "=================================================================\n",
      "Total params: 25,120\n",
      "Trainable params: 25,120\n",
      "Non-trainable params: 0\n",
      "_________________________________________________________________\n"
     ]
    }
   ],
   "source": [
    "model.summary()"
   ]
  },
  {
   "cell_type": "code",
   "execution_count": null,
   "id": "cosmetic-personal",
   "metadata": {},
   "outputs": [],
   "source": []
  }
 ],
 "metadata": {
  "kernelspec": {
   "display_name": "Python 3",
   "language": "python",
   "name": "python3"
  },
  "language_info": {
   "codemirror_mode": {
    "name": "ipython",
    "version": 3
   },
   "file_extension": ".py",
   "mimetype": "text/x-python",
   "name": "python",
   "nbconvert_exporter": "python",
   "pygments_lexer": "ipython3",
   "version": "3.8.6"
  }
 },
 "nbformat": 4,
 "nbformat_minor": 5
}
